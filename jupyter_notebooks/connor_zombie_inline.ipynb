{
  "cells": [
    {
      "cell_type": "code",
      "source": [
        "import azureml.core\n",
        "from azureml.core import Workspace\n",
        "\n",
        "# Load the workspace from the saved config file\n",
        "ws = Workspace.from_config()\n",
        "print('Ready to use Azure ML {} to work with {}'.format(azureml.core.VERSION, ws.name))"
      ],
      "outputs": [
        {
          "output_type": "stream",
          "name": "stdout",
          "text": [
            "Ready to use Azure ML 1.27.0 to work with avz0521\n"
          ]
        }
      ],
      "execution_count": 1,
      "metadata": {
        "gather": {
          "logged": 1620265209853
        }
      },
      "id": "498fb459"
    },
    {
      "cell_type": "code",
      "source": [
        "from azureml.core import Experiment\n",
        "from azureml.core import Datastore\n",
        "from azureml.core import Dataset\n",
        "import pandas as pd\n",
        "import numpy as np\n",
        "import matplotlib.pyplot as plt\n",
        "import seaborn as sns\n",
        "%matplotlib inline\n",
        "import joblib\n",
        "import os"
      ],
      "outputs": [],
      "execution_count": 5,
      "metadata": {
        "gather": {
          "logged": 1620265250142
        }
      },
      "id": "0670e4a6"
    },
    {
      "cell_type": "code",
      "source": [
        "# Create a folder for the experiment files\n",
        "experiment_folder = 'zombies_inline'\n",
        "os.makedirs(experiment_folder, exist_ok=True)\n",
        "print(experiment_folder, 'folder created')\n",
        "\n",
        "# Create an Azure ML experiment in your workspace\n",
        "experiment = Experiment(workspace=ws, name=\"zombies_test\")\n",
        "\n",
        "# Start logging data from the experiment, obtaining a reference to the experiment run\n",
        "run = experiment.start_logging()\n",
        "print(\"Starting experiment:\", experiment.name)\n"
      ],
      "outputs": [
        {
          "output_type": "stream",
          "name": "stdout",
          "text": [
            "zombies_inline folder created\n",
            "Starting experiment: zombies_test\n"
          ]
        }
      ],
      "execution_count": 6,
      "metadata": {
        "gather": {
          "logged": 1620265256239
        }
      },
      "id": "e6f3128b"
    },
    {
      "cell_type": "code",
      "source": [
        "# dsr = ws.set_as_default(ws,zombies)"
      ],
      "outputs": [],
      "execution_count": 10,
      "metadata": {
        "gather": {
          "logged": 1620265702150
        }
      },
      "id": "ca73420f"
    },
    {
      "cell_type": "code",
      "source": [
        "dataset = Dataset.get_by_name(ws, name='zombiesavz') #I changed the dataset name to what was in my Datasets\n",
        "                                                    #Yours will be different I'm assuming\n",
        "zombies = dataset.to_pandas_dataframe()"
      ],
      "outputs": [],
      "execution_count": 12,
      "metadata": {
        "gather": {
          "logged": 1620265756200
        }
      },
      "id": "f4f4b156"
    },
    {
      "cell_type": "code",
      "source": [
        "# zombies = pd.read_csv('bounty_pred.csv')[['Human','Zone','Age','Num_Fam','Bounty']]\r\n",
        "# zombies.info()"
      ],
      "outputs": [],
      "execution_count": 28,
      "metadata": {
        "gather": {
          "logged": 1620266016739
        },
        "jupyter": {
          "outputs_hidden": true
        }
      },
      "id": "c1d81fdc"
    },
    {
      "cell_type": "code",
      "source": [
        "zombies['Human'] = zombies['Human'].astype('category')\r\n",
        "zombies['Zone'] = zombies['Zone'].astype('category')\r\n",
        "zombies = pd.get_dummies(zombies) "
      ],
      "outputs": [],
      "execution_count": 14,
      "metadata": {
        "collapsed": true,
        "jupyter": {
          "source_hidden": false,
          "outputs_hidden": false
        },
        "nteract": {
          "transient": {
            "deleting": false
          }
        },
        "gather": {
          "logged": 1620265777780
        }
      },
      "id": "9019faa3-b6cc-49f9-bb73-40e96fe35393"
    },
    {
      "cell_type": "code",
      "source": [
        "# zom = zombies[['Human_1','Zone_2']]\n",
        "\n",
        "# zombies['Human'] = zombies['Human_1'].astype('category')\n",
        "# zombies['Zone_2'] = zombies['Zone_2'].astype('category')\n",
        "# zombies['Zone_3'] = zombies['Zone_3'].astype('category')\n",
        "# zombies['Sex_male'] = zombies['Sex_male'].astype('category')\n",
        "\n",
        "zombies.info()"
      ],
      "outputs": [
        {
          "output_type": "stream",
          "name": "stdout",
          "text": [
            "<class 'pandas.core.frame.DataFrame'>\n",
            "RangeIndex: 891 entries, 0 to 890\n",
            "Data columns (total 11 columns):\n",
            "Age           891 non-null int64\n",
            "Num_Fam       891 non-null int64\n",
            "Ammo          891 non-null int64\n",
            "Bounty        891 non-null float64\n",
            "Human_0       891 non-null uint8\n",
            "Human_1       891 non-null uint8\n",
            "Zone_1        891 non-null uint8\n",
            "Zone_2        891 non-null uint8\n",
            "Zone_3        891 non-null uint8\n",
            "Sex_female    891 non-null uint8\n",
            "Sex_male      891 non-null uint8\n",
            "dtypes: float64(1), int64(3), uint8(7)\n",
            "memory usage: 34.1 KB\n"
          ]
        }
      ],
      "execution_count": 15,
      "metadata": {
        "gather": {
          "logged": 1620265793166
        }
      },
      "id": "70a091e1"
    },
    {
      "cell_type": "code",
      "source": [
        "zom_log = zombies.copy()\n",
        "# for col in zom_log:\n",
        "#     if zom_log[col].dtype.name != 'category':\n",
        "#         zom_log[col] = zom_log[col].astype('float64').replace(0.0, 0.01)\n",
        "#         zom_log[col] = np.log(zom_log[col])\n",
        "        \n",
        "zom_log.head()\n",
        "\n",
        "# zom_log.hist(figsize = (12,8),color=\"green\");\n",
        "\n",
        "# **Yikes! Since we are not able to coerce our data into a normal distribution, we'll just try to scale it instead.**\n",
        "\n",
        "## Splitting our dataset into a training set and a test set.\n",
        "\n",
        "X = zom_log[['Age','Num_Fam','Human_0','Human_1','Zone_1','Zone_2','Zone_3']]\n",
        "\n",
        "y = zom_log['Bounty']\n",
        "\n",
        "from sklearn.model_selection import train_test_split\n",
        "\n",
        "X_train, X_test, y_train, y_test = train_test_split(X, y, test_size=0.3, random_state=101)\n",
        "\n",
        "\n",
        "\n",
        "## Build a model with each categorical variable as a predictor\n",
        "\n",
        "import statsmodels.api as sm\n",
        "\n",
        "ols_model = sm.OLS(y,X.astype(float)).fit()\n",
        "ols_model.summary()\n",
        "\n"
      ],
      "outputs": [
        {
          "output_type": "execute_result",
          "execution_count": 16,
          "data": {
            "text/plain": "<class 'statsmodels.iolib.summary.Summary'>\n\"\"\"\n                            OLS Regression Results                            \n==============================================================================\nDep. Variable:                 Bounty   R-squared:                       0.421\nModel:                            OLS   Adj. R-squared:                  0.418\nMethod:                 Least Squares   F-statistic:                     128.7\nDate:                Thu, 06 May 2021   Prob (F-statistic):          1.94e-102\nTime:                        01:50:10   Log-Likelihood:                -4500.5\nNo. Observations:                 891   AIC:                             9013.\nDf Residuals:                     885   BIC:                             9042.\nDf Model:                           5                                         \nCovariance Type:            nonrobust                                         \n==============================================================================\n                 coef    std err          t      P>|t|      [0.025      0.975]\n------------------------------------------------------------------------------\nAge           -0.1383      0.108     -1.282      0.200      -0.350       0.073\nNum_Fam        7.3280      0.811      9.031      0.000       5.735       8.921\nHuman_0       19.0727      2.796      6.820      0.000      13.584      24.561\nHuman_1       26.2670      2.487     10.562      0.000      21.386      31.148\nZone_1        59.9016      3.050     19.641      0.000      53.916      65.887\nZone_2        -3.4652      2.659     -1.303      0.193      -8.684       1.754\nZone_3       -11.0966      1.871     -5.931      0.000     -14.768      -7.425\n==============================================================================\nOmnibus:                     1059.127   Durbin-Watson:                   2.048\nProb(Omnibus):                  0.000   Jarque-Bera (JB):           127386.910\nSkew:                           5.852   Prob(JB):                         0.00\nKurtosis:                      60.396   Cond. No.                     7.88e+16\n==============================================================================\n\nWarnings:\n[1] Standard Errors assume that the covariance matrix of the errors is correctly specified.\n[2] The smallest eigenvalue is 1.42e-28. This might indicate that there are\nstrong multicollinearity problems or that the design matrix is singular.\n\"\"\"",
            "text/html": "<table class=\"simpletable\">\n<caption>OLS Regression Results</caption>\n<tr>\n  <th>Dep. Variable:</th>         <td>Bounty</td>      <th>  R-squared:         </th> <td>   0.421</td> \n</tr>\n<tr>\n  <th>Model:</th>                   <td>OLS</td>       <th>  Adj. R-squared:    </th> <td>   0.418</td> \n</tr>\n<tr>\n  <th>Method:</th>             <td>Least Squares</td>  <th>  F-statistic:       </th> <td>   128.7</td> \n</tr>\n<tr>\n  <th>Date:</th>             <td>Thu, 06 May 2021</td> <th>  Prob (F-statistic):</th> <td>1.94e-102</td>\n</tr>\n<tr>\n  <th>Time:</th>                 <td>01:50:10</td>     <th>  Log-Likelihood:    </th> <td> -4500.5</td> \n</tr>\n<tr>\n  <th>No. Observations:</th>      <td>   891</td>      <th>  AIC:               </th> <td>   9013.</td> \n</tr>\n<tr>\n  <th>Df Residuals:</th>          <td>   885</td>      <th>  BIC:               </th> <td>   9042.</td> \n</tr>\n<tr>\n  <th>Df Model:</th>              <td>     5</td>      <th>                     </th>     <td> </td>    \n</tr>\n<tr>\n  <th>Covariance Type:</th>      <td>nonrobust</td>    <th>                     </th>     <td> </td>    \n</tr>\n</table>\n<table class=\"simpletable\">\n<tr>\n     <td></td>        <th>coef</th>     <th>std err</th>      <th>t</th>      <th>P>|t|</th>  <th>[0.025</th>    <th>0.975]</th>  \n</tr>\n<tr>\n  <th>Age</th>     <td>   -0.1383</td> <td>    0.108</td> <td>   -1.282</td> <td> 0.200</td> <td>   -0.350</td> <td>    0.073</td>\n</tr>\n<tr>\n  <th>Num_Fam</th> <td>    7.3280</td> <td>    0.811</td> <td>    9.031</td> <td> 0.000</td> <td>    5.735</td> <td>    8.921</td>\n</tr>\n<tr>\n  <th>Human_0</th> <td>   19.0727</td> <td>    2.796</td> <td>    6.820</td> <td> 0.000</td> <td>   13.584</td> <td>   24.561</td>\n</tr>\n<tr>\n  <th>Human_1</th> <td>   26.2670</td> <td>    2.487</td> <td>   10.562</td> <td> 0.000</td> <td>   21.386</td> <td>   31.148</td>\n</tr>\n<tr>\n  <th>Zone_1</th>  <td>   59.9016</td> <td>    3.050</td> <td>   19.641</td> <td> 0.000</td> <td>   53.916</td> <td>   65.887</td>\n</tr>\n<tr>\n  <th>Zone_2</th>  <td>   -3.4652</td> <td>    2.659</td> <td>   -1.303</td> <td> 0.193</td> <td>   -8.684</td> <td>    1.754</td>\n</tr>\n<tr>\n  <th>Zone_3</th>  <td>  -11.0966</td> <td>    1.871</td> <td>   -5.931</td> <td> 0.000</td> <td>  -14.768</td> <td>   -7.425</td>\n</tr>\n</table>\n<table class=\"simpletable\">\n<tr>\n  <th>Omnibus:</th>       <td>1059.127</td> <th>  Durbin-Watson:     </th>  <td>   2.048</td> \n</tr>\n<tr>\n  <th>Prob(Omnibus):</th>  <td> 0.000</td>  <th>  Jarque-Bera (JB):  </th> <td>127386.910</td>\n</tr>\n<tr>\n  <th>Skew:</th>           <td> 5.852</td>  <th>  Prob(JB):          </th>  <td>    0.00</td> \n</tr>\n<tr>\n  <th>Kurtosis:</th>       <td>60.396</td>  <th>  Cond. No.          </th>  <td>7.88e+16</td> \n</tr>\n</table><br/><br/>Warnings:<br/>[1] Standard Errors assume that the covariance matrix of the errors is correctly specified.<br/>[2] The smallest eigenvalue is 1.42e-28. This might indicate that there are<br/>strong multicollinearity problems or that the design matrix is singular."
          },
          "metadata": {}
        }
      ],
      "execution_count": 16,
      "metadata": {
        "gather": {
          "logged": 1620265810271
        }
      },
      "id": "15ac54bd"
    },
    {
      "cell_type": "code",
      "source": [
        "r2 = ols_model.rsquared\n",
        "run.log(\"r2\",r2)"
      ],
      "outputs": [],
      "execution_count": 17,
      "metadata": {
        "gather": {
          "logged": 1620265816703
        }
      },
      "id": "6ea8ede8"
    },
    {
      "cell_type": "code",
      "source": [
        "r2_adj = ols_model.rsquared_adj\n",
        "run.log(\"r2_adj\",r2_adj)"
      ],
      "outputs": [],
      "execution_count": 18,
      "metadata": {
        "gather": {
          "logged": 1620265818490
        }
      },
      "id": "469887d8"
    },
    {
      "cell_type": "code",
      "source": [
        "metrics = run.get_metrics()\n",
        "for key in metrics.keys():\n",
        "        print(key, metrics.get(key))"
      ],
      "outputs": [
        {
          "output_type": "stream",
          "name": "stdout",
          "text": [
            "r2 0.4209509153405405\n",
            "r2_adj 0.4176794515854023\n"
          ]
        }
      ],
      "execution_count": 19,
      "metadata": {
        "gather": {
          "logged": 1620265820968
        }
      },
      "id": "0b3fbcd6"
    },
    {
      "cell_type": "code",
      "source": [
        "print(metrics)"
      ],
      "outputs": [
        {
          "output_type": "stream",
          "name": "stdout",
          "text": [
            "{'r2': 0.4209509153405405, 'r2_adj': 0.4176794515854023}\n"
          ]
        }
      ],
      "execution_count": 20,
      "metadata": {
        "scrolled": true,
        "gather": {
          "logged": 1620265825382
        }
      },
      "id": "8b241485"
    },
    {
      "cell_type": "code",
      "source": [
        "preds = ols_model.predict()"
      ],
      "outputs": [],
      "execution_count": 21,
      "metadata": {
        "collapsed": true,
        "jupyter": {
          "source_hidden": false,
          "outputs_hidden": false
        },
        "nteract": {
          "transient": {
            "deleting": false
          }
        },
        "gather": {
          "logged": 1620265828772
        }
      },
      "id": "4c8195c4-efeb-47f9-89e6-45f3d7aa1bf3"
    },
    {
      "cell_type": "code",
      "source": [
        "# Save the trained model in the outputs folder\n",
        "os.makedirs('outputs', exist_ok=True)\n",
        "joblib.dump(value=ols_model, filename='outputs/zombies.pkl')\n",
        "\n",
        "run.complete()"
      ],
      "outputs": [],
      "execution_count": 22,
      "metadata": {
        "gather": {
          "logged": 1620265837754
        }
      },
      "id": "386a95b9"
    },
    {
      "cell_type": "code",
      "source": [],
      "outputs": [],
      "execution_count": null,
      "metadata": {},
      "id": "e78b8fe6"
    },
    {
      "cell_type": "code",
      "source": [
        "from azureml.core import Model\n",
        "\n",
        "# Register the model\n",
        "run.register_model(model_path='outputs/zombies.pkl', model_name='zombies_model',properties={'r2': run.get_metrics()['r2']})\n",
        "\n",
        "# List registered models\n",
        "for model in Model.list(ws):\n",
        "    print(model.name, 'version:', model.version)\n",
        "#     for tag_name in model.tags:\n",
        "#         tag = model.tags[tag_name]\n",
        "#         print ('\\t',tag_name, ':', tag)\n",
        "    for prop_name in model.properties:\n",
        "        prop = model.properties[prop_name]\n",
        "        print ('\\t',prop_name, ':', prop)\n",
        "    print('\\n')"
      ],
      "outputs": [
        {
          "output_type": "stream",
          "name": "stdout",
          "text": [
            "zombies_model version: 8\n",
            "\t r2 : 0.4209509153405405\n",
            "\n",
            "\n",
            "zombies_model version: 7\n",
            "\t AUC : 0.7075929447249361\n",
            "\t Accuracy : 0.7261904761904762\n",
            "\n",
            "\n",
            "zombies_model version: 6\n",
            "\t Accuracy : 0.7738095238095238\n",
            "\t r2_adj : 0.813383152173913\n",
            "\n",
            "\n",
            "zombies_model version: 5\n",
            "\t r2 : 0.8678496063600782\n",
            "\t r2_adj : 0.8667364261489117\n",
            "\n",
            "\n",
            "zombies_model version: 4\n",
            "\t AUC : 0.7295587174611501\n",
            "\t Accuracy : 0.746031746031746\n",
            "\n",
            "\n",
            "zombies_model version: 3\n",
            "\t AUC : 0.7257556881515966\n",
            "\t Accuracy : 0.7420634920634921\n",
            "\n",
            "\n",
            "zombies_model version: 2\n",
            "\t AUC : 0.7191659563307324\n",
            "\t Accuracy : 0.7380952380952381\n",
            "\n",
            "\n",
            "zombies_model version: 1\n",
            "\t AUC : 0.7212641793980723\n",
            "\t Accuracy : 0.7380952380952381\n",
            "\n",
            "\n"
          ]
        }
      ],
      "execution_count": 23,
      "metadata": {
        "gather": {
          "logged": 1620265846642
        }
      },
      "id": "8f9940e6"
    },
    {
      "cell_type": "code",
      "source": [
        "preds"
      ],
      "outputs": [
        {
          "output_type": "execute_result",
          "execution_count": 24,
          "data": {
            "text/plain": "array([ 12.26049486,  88.23950554,  11.57338747,  88.65454104,\n         3.13399755,   4.65579439,  71.50368931,  37.0114286 ,\n        26.09106256,  28.19296934,  29.27300141,  78.14459205,\n         5.20917506,  46.54867766,   6.03924607,  15.19280734,\n        44.33943873,  19.48150754,  11.01538835,  11.8500778 ,\n        10.76542728,  18.09805586,  13.09518431,  82.29494708,\n        36.18135759,  53.88130623,   4.65579439, 112.98582083,\n        11.8500778 ,   4.65579439,  73.44052166,  90.17633788,\n        11.8500778 ,   6.47672709,  82.4286738 ,  80.49184146,\n        11.8500778 ,   5.07082989,  20.14188566,  20.56153961,\n         9.77028184,  19.20019875,   4.65579439,  44.37078645,\n        12.54180364,   4.65579439,  11.98380452,  11.8500778 ,\n        19.31181465,  12.81387553,  43.64771289,   5.07082989,\n        86.71770869,  26.11779183,  77.3099026 ,  82.84832775,\n        19.89654304,   4.10241372,  44.09409611,  57.75035248,\n         4.93248473,  80.91149541,  80.07680595,  44.06274839,\n        75.65404434,  26.50609806,  18.7897817 ,   5.34752023,\n        56.78655475,  19.03512432,  11.18046279,  57.05862664,\n        12.70225963,  11.70711419,  10.74331646,   4.51744922,\n         4.65579439,   4.65579439,  37.45781182,  11.0200068 ,\n         4.93248473,  11.15835196,  11.8500778 ,  75.10066367,\n        20.44992371,  32.58900168,  35.07459625,   4.65579439,\n       119.62672357,   4.65579439,   3.96406855,   5.20917506,\n        79.93846079,  26.36313445,  -0.18628648,   4.65579439,\n        69.15182146,  90.31468305,  25.42606599,  18.23178258,\n         4.10241372,   4.65579439,  83.39708998,   3.41068788,\n        17.51332747,   4.10241372,  12.2651133 ,  11.8500778 ,\n         2.71896204,  19.17808793,  72.47210549,  13.3672562 ,\n         4.93248473,  12.53718519,   5.62421057,   5.07082989,\n        -1.70808332,  18.92350842,  82.98205447,  51.66744886,\n        27.35827989,   4.65579439,  18.50847292,  18.3747462 ,\n        78.83169944,  20.83822994,   4.65579439,  11.8500778 ,\n        26.50609806,   1.75054587,   3.41068788,   5.20917506,\n         8.80186567,  26.11779183,  12.14887896,  12.4255693 ,\n        98.19607385,  81.18356729,   5.76255573,  75.65404434,\n        19.31181465,  12.12676814,  19.17808793,   5.34752023,\n        13.11729513,  27.63497023,  11.4350423 ,  36.04301243,\n        25.28310238,   9.79701111,   8.5519046 ,  90.45302822,\n         0.36709419,  17.09829197,   4.65579439,  79.24673495,\n        12.95683914,   3.82572339,   4.65579439,  77.93589569,\n         9.21690117,  17.26798486,   4.37910406,   5.62421057,\n        44.4777839 ,  28.58127558,  90.17633788,  38.39059652,\n        75.65404434,   4.10241372,  70.53527314,  44.06274839,\n        29.68803692,   5.07082989,  71.22699898,  20.14188566,\n        33.96783491,  72.05706998,  11.45715312,   2.99565238,\n        77.93589569,  12.28722413,  50.69903269,  44.64747678,\n        29.27300141,  75.65404434,  19.17808793,  79.94307923,\n        17.09829197,   2.99565238,  18.3747462 ,  12.97894997,\n        19.86981377,  37.04277632,  80.0814244 ,  78.14459205,\n         4.65579439,   9.4935915 ,  11.8500778 ,  12.28722413,\n         4.10241372,  77.93589569,   3.27234272,   1.75054587,\n        12.68014881,  15.02739821,  10.87704318,  11.57338747,\n        12.95683914,  80.63480507,   4.65579439,  17.95971069,\n         4.93248473,  11.45715312,  11.98380452,  89.20792171,\n        11.4350423 ,  17.12502124,  81.74156641,  11.45715312,\n        12.95683914,  11.87218862,   0.92047487,   4.65579439,\n        88.23950554,   4.93248473,  20.17323338,   5.20917506,\n        13.11729513,  33.96783491,  88.65454104,   3.96406855,\n         7.44514326,  58.44669677,  12.28722413,   4.65579439,\n        16.8483309 ,  36.35105048,  12.97894997,  11.04211762,\n        11.98380452,  19.17808793,  11.59549829,   4.93248473,\n         3.82572339,  87.54316125,   4.51744922,  34.1375278 ,\n        95.70586083,  15.46487923,   4.65579439,  18.62008881,\n        70.39692797,  11.15373352,  16.9599468 ,  25.81437222,\n        82.84832775,  82.01825675,  81.32653091,  23.21254331,\n         4.65579439,  58.7233871 ,  86.43639991,  73.44052166,\n         4.65579439,  10.62708212,  42.40260638,  19.03974276,\n        85.47260218,  81.32653091,  75.65404434,  11.71173263,\n        24.45764982,  81.18356729,  11.8500778 ,  84.78087634,\n         1.75054587,  12.28722413,  43.64771289,  24.98430122,\n        -1.01635748,   4.10241372,   5.76255573,  12.54180364,\n        75.65404434,   3.41068788,  11.0200068 ,   4.93248473,\n        16.99129452,  12.12676814,  82.57163742,  90.86806372,\n        10.62708212,   4.65579439,   4.65579439,  75.65404434,\n         4.79413956, 100.68166842,  82.84832775,  86.57936352,\n        11.8500778 ,  26.50609806,   5.34752023,  19.48150754,\n         4.65579439, 108.15264217,  82.84832775,  91.14475406,\n        18.78516325,  82.01825675,  82.84832775, 112.99043928,\n        26.66655405,   4.10241372,  24.3146862 ,  11.57338747,\n        26.80951767,   8.1368691 ,  96.53593184,  95.29082533,\n         4.93248473,   4.24075889,  18.65143653,  34.41421813,\n        77.93589569,  81.18818574,  -0.46297681,  17.82136553,\n        25.53768189,  91.28309922,  26.50609806,  72.74879582,\n        81.04522213,  20.41857599,  90.17633788,   4.65579439,\n        82.29032864,  80.4964599 ,   8.94482928,  72.74879582,\n        37.18112149, 119.4883784 ,  11.73384346,  12.14887896,\n        10.62708212,  19.48150754,  17.26798486,  19.17808793,\n        29.41134658,   2.16558137,   4.79413956,  75.65404434,\n        20.55692116,  11.84545935,   4.65579439,   4.10241372,\n        90.45302822,  10.35039178,  11.8500778 ,  11.8500778 ,\n        39.08232236,  18.92350842,   9.078556  ,   3.13399755,\n        11.98380452,   3.82572339,  85.19591185,  11.8500778 ,\n        11.8500778 ,  82.84832775,  90.03799272,  12.81387553,\n         5.34752023,  75.93073468,  36.87308343,  90.17633788,\n        12.12676814,  89.8950291 ,   5.20917506,   5.34752023,\n        80.35811474,  29.68803692,   3.54903305,  88.65454104,\n         4.65579439,  13.11729513,  59.13380416,  17.82136553,\n         4.65579439,  20.44992371, 103.17221613,  12.2651133 ,\n        18.75843398,  90.31468305,  26.50609806,   4.93248473,\n         3.68737822,   9.24363044,  12.4255693 ,  18.92812687,\n         9.77490029,   4.37910406,  12.39884002,  11.43042385,\n         5.20917506,  18.23178258,   0.92047487,  37.04277632,\n         5.07082989,  33.96783491,   4.65579439,   4.65579439,\n        88.93123137,  12.28722413,   9.08317445,   4.65579439,\n        32.75407612,  34.9675988 ,  11.45715312,  21.248647  ,\n         4.65579439,   5.07082989,   3.96406855,  18.75843398,\n        20.14188566,   4.65579439,  26.256137  ,  20.17323338,\n         4.65579439,  10.74331646,  82.29494708,  19.17808793,\n        24.31930465,   5.62421057,  79.38508011, 106.21580982,\n        34.38287041,  56.12155819, 106.76028829,  11.31880795,\n        31.23227928,   5.20917506,  11.84545935,  18.92812687,\n        11.8500778 , 100.27125137,  28.33131451,  81.46487608,\n        36.46266638,  78.97466306,  32.61111251,  11.98380452,\n        74.82397334,  86.71770869,   4.65579439,  11.15835196,\n        69.98189247,  90.17633788,  15.88453318,   4.65579439,\n        79.52804373,   3.27234272,  72.47210549,   8.9669401 ,\n         4.65579439,   2.71896204,  12.28722413,  71.22699898,\n         4.65579439,  37.15439221,   4.65579439,   2.71896204,\n        40.22043142,  19.61985271,   4.93248473,  75.65404434,\n        18.23178258,  11.29207868,   4.93248473,  22.22168162,\n        58.02704281,  12.28722413,   1.05882003,   6.45461626,\n        90.03799272,  33.96783491,  88.65454104,  70.95030864,\n         3.82572339,  28.58127558,  11.98380452,   5.07082989,\n        71.36534415,  69.15182146,   5.07082989,   4.65579439,\n        86.02598285,   4.65579439,  97.49972957,   4.65579439,\n         5.62421057,   5.07082989,   4.65579439,   2.85730721,\n        83.95508909,  83.81212548,  32.89242129,  82.84832775,\n         4.10241372,  11.57338747,  11.15835196,   4.65579439,\n        81.18818574,  86.02598285,   4.65579439,  72.47210549,\n        18.09805586,   4.65579439,  25.14937566,   3.54903305,\n        82.01825675,   4.93248473,   4.65579439,  87.40943453,\n         4.65579439,   2.44227171,  15.88453318,  75.65404434,\n         2.58061688,  34.40959968,  37.18112149,   4.65579439,\n        20.28023082,  26.50609806,   3.82572339,  36.48939565,\n        72.74879582,  82.01825675,   4.65579439,  97.78103835,\n        95.844206  ,  50.69903269,  50.42234235,  25.70275633,\n        79.38508011,  70.12023764,  27.50124351,  19.48150754,\n        18.06670814,  36.35105048,  98.47276419,  11.87218862,\n         4.65579439,  12.12676814,  12.12676814,  70.39692797,\n        86.85605386,  75.65404434,  95.4291705 ,  17.51794592,\n         4.65579439,   2.44227171,  11.73384346,   4.65579439,\n         4.65579439,  19.31181465,   5.34752023,  33.27610907,\n         4.65579439,  10.74331646,  14.22439117,  93.49233815,\n        81.18818574,  11.8500778 ,   5.76255573,   5.34752023,\n        18.09805586,  88.10116037,  11.98380452,  10.74331646,\n        33.99918263,  95.4291705 ,   8.1368691 ,  73.99390233,\n         4.65579439,  98.33441902,   9.10528527,  92.52392198,\n         4.93248473,   4.65579439,   3.13399755,  86.30267319,\n         1.47385554,  19.31181465,  17.81674708,  17.65167264,\n        19.48150754,   1.1971652 ,   4.65579439,  86.71770869,\n        41.46553793,   4.65579439,  75.65404434,   1.88889104,\n        81.32653091,  10.32366251,   3.82572339,  82.43329225,\n        41.74222826,  80.63480507,  46.54867766,   4.65579439,\n        19.17808793,   4.65579439,   3.13399755,  41.46553793,\n        17.92836297,  11.70711419,  44.23244128,  12.01053379,\n        11.56876902,  87.68612487,  27.05947873,   5.07082989,\n         5.07082989,  70.53527314,   7.7218336 ,  83.26336326,\n         4.37910406,   4.65579439,  75.10099837,   0.92047487,\n        81.74156641,  75.65404434,  43.37102256,  18.92812687,\n         3.54903305,  25.97482821,  38.94397719,  11.98380452,\n         5.20917506,  82.84832775,  44.33943873,  11.8500778 ,\n        37.15439221,  86.85605386,   5.34752023,  78.42128239,\n         4.65579439,  11.98842297,   4.65579439,  27.63958867,\n         5.07082989,  11.8500778 ,   5.4858654 ,  26.94324439,\n         4.65579439,  18.20505331,  12.4255693 ,  85.6063289 ,\n        93.90737365,   2.44227171,  72.47210549,   2.99565238,\n        19.7314686 ,  25.83648305,  12.14887896,   4.65579439,\n         2.02723621,  90.17633788,  31.92400511,  82.0136383 ,\n         5.92334642,  18.51309136,  12.28722413,   5.4858654 ,\n         4.65579439,  12.68014881,  53.32330712,  88.51619587,\n         4.65579439,  82.43329225,   5.20917506,  57.33531698,\n        21.96281835,  34.13290935,  42.67929672,   5.34752023,\n         5.4858654 ,  91.42144439,  89.20792171,  21.94499128,\n        11.8500778 ,   4.51744922,  70.67361831,   8.41355943,\n         1.88889104,  11.8500778 ,  86.85143541,   2.16558137,\n        91.00640889,  81.32653091,  12.81387553,   4.51744922,\n        11.70711419,  10.21204661,  16.57625902,  80.35811474,\n        83.12501809,  26.50609806,  82.84832775,  75.65404434,\n        86.85605386,   3.96406855,   8.41355943,   5.34752023,\n        80.91149541,  19.06647203,   4.65579439,   3.41068788,\n        29.29973068,  12.9522207 ,  10.90377245,   8.69024977,\n        89.76130238,   5.20917506,  40.63546692,  11.8500778 ,\n        19.47688909,  11.84545935,  82.15660191,   6.45428157,\n        12.28722413,  12.4255693 ,  12.4255693 ,   4.10241372,\n        30.64755089,  81.32653091,   4.65579439,   4.65579439,\n        82.84832775,  81.32191246, 112.57540378,  11.98380452,\n        10.88166163,  83.94618689,  20.41857599,  18.65143653,\n        83.67378031,   3.68737822,  36.90443115,  21.66830095,\n         3.41068788,   4.79413956,  38.1452539 ,  37.45781182,\n         4.10241372,  13.11729513,   3.27234272,  81.60322124,\n         4.65579439,   2.30392654,  12.40345847, 103.17221613,\n         5.76255573,  86.44101836,  75.65404434,   3.82572339,\n        11.98380452,   3.54903305,   4.65579439,   1.33551037,\n         7.7218336 ,   4.65579439,  44.64319303,   5.4858654 ,\n         4.65579439,  14.47863599,   4.65579439,  87.5477797 ,\n        13.37187465,  91.14475406,  74.96231851,  26.63982478,\n         4.51744922,   4.51744922,  12.68014881,  43.50936772,\n        37.01604705,  72.61045066,   4.65579439,  13.39398547,\n        77.93589569,  75.65404434,   4.51744922,  10.21204661,\n        79.38969856,  10.88166163,   3.82572339,  18.48174365,\n        10.90377245,  33.16911162, 106.63084532,  22.49837195,\n        11.4350423 ,   3.68737822,  73.57886683,   5.4858654 ,\n        10.21204661,  88.93123137,   4.37910406,   2.58061688,\n        10.76542728,  51.11406819,   3.82572339,  75.65404434,\n         4.79413956,  25.97482821,   2.02723621,  43.23267739,\n        93.63068332,  11.4350423 ,  73.717212  ,  18.76305243,\n        44.33943873,   4.65579439,   4.65579439,  37.31946665,\n        11.8500778 ,  77.59121138,  20.42319444,  37.45781182,\n         4.65579439,   4.79413956,   5.4858654 ,  95.4291705 ,\n         5.07082989,   4.65579439,  10.74331646,  82.84832775,\n         5.20917506,  13.39398547,  82.01825675,   3.27234272,\n         5.62421057,   2.16558137,  77.93589569,   3.13399755,\n        19.06185359,  90.17633788,  51.39075852,  -2.26146399,\n        21.38699217,  91.28309922,  16.8483309 ,  20.00815894,\n        94.59909949,  79.11300823,  33.83410819,   4.65579439,\n        16.9599468 ,  20.03026976,  79.52804373,  77.93589569,\n        12.28722413,  16.99129452,  26.39448216,  74.68562817,\n         4.65579439,  29.27300141,   4.37910406,  94.32240916,\n        74.40893783,   1.47385554,  26.256137  ,  13.09518431,\n         5.20917506,   5.34752023,   4.65579439,  85.74929252,\n        26.6711725 ,   3.41068788,   4.93248473,  11.73384346,\n         4.51744922,  39.22066753,  11.87218862,  83.54005359,\n        26.63982478,  82.57163742,   3.54903305])"
          },
          "metadata": {}
        }
      ],
      "execution_count": 24,
      "metadata": {
        "gather": {
          "logged": 1620265848826
        }
      },
      "id": "78ef6935"
    },
    {
      "cell_type": "code",
      "source": [
        "print(X_test)"
      ],
      "outputs": [
        {
          "output_type": "stream",
          "name": "stdout",
          "text": [
            "     Age  Num_Fam  Human_0  Human_1  Zone_1  Zone_2  Zone_3\n",
            "331   45        0        1        0       1       0       0\n",
            "700   18        1        0        1       1       0       0\n",
            "748   19        1        1        0       1       0       0\n",
            "751    6        1        0        1       0       0       1\n",
            "481   24        0        1        0       0       1       0\n",
            "..   ...      ...      ...      ...     ...     ...     ...\n",
            "388   24        0        1        0       0       0       1\n",
            "416   34        2        0        1       0       1       0\n",
            "407    3        2        0        1       0       1       0\n",
            "482   50        0        1        0       0       0       1\n",
            "829   62        0        0        1       1       0       0\n",
            "\n",
            "[268 rows x 7 columns]\n"
          ]
        }
      ],
      "execution_count": 25,
      "metadata": {
        "collapsed": true,
        "jupyter": {
          "source_hidden": false,
          "outputs_hidden": false
        },
        "nteract": {
          "transient": {
            "deleting": false
          }
        },
        "gather": {
          "logged": 1620265855038
        }
      },
      "id": "65a85d4c-9959-452f-a2e8-882d5e12ce25"
    },
    {
      "cell_type": "code",
      "source": [
        "\n",
        "dataset = dataset.register(workspace = ws,\n",
        "                           name = 'x_test_dataset',\n",
        "                           create_new_version=True)"
      ],
      "outputs": [],
      "execution_count": 26,
      "metadata": {
        "collapsed": true,
        "jupyter": {
          "source_hidden": false,
          "outputs_hidden": false
        },
        "nteract": {
          "transient": {
            "deleting": false
          }
        },
        "gather": {
          "logged": 1620265862679
        }
      },
      "id": "a99004b9-b898-4a7f-a172-cb1adaf311c2"
    },
    {
      "cell_type": "code",
      "source": [
        "X_test.to_csv('xtest.csv',index=True)"
      ],
      "outputs": [],
      "execution_count": 27,
      "metadata": {
        "collapsed": true,
        "jupyter": {
          "source_hidden": false,
          "outputs_hidden": false
        },
        "nteract": {
          "transient": {
            "deleting": false
          }
        },
        "gather": {
          "logged": 1620265866206
        }
      },
      "id": "bc8dfb3c-6a13-4de2-a68b-0e99176ad7cc"
    },
    {
      "cell_type": "code",
      "source": [
        "default_ds = ws.get_default_datastore()\n",
        "for ds_name in ws.datastores:\n",
        "    print(ds_name, \"- Default =\", ds_name == default_ds.name)"
      ],
      "outputs": [
        {
          "output_type": "stream",
          "name": "stdout",
          "text": [
            "zombies - Default = True\n",
            "azureml_globaldatasets - Default = False\n",
            "workspaceblobstore - Default = False\n",
            "workspacefilestore - Default = False\n"
          ]
        }
      ],
      "execution_count": 34,
      "metadata": {
        "collapsed": true,
        "jupyter": {
          "source_hidden": false,
          "outputs_hidden": false
        },
        "nteract": {
          "transient": {
            "deleting": false
          }
        },
        "gather": {
          "logged": 1620279672733
        }
      },
      "id": "9a4126ad-e618-4d16-acd8-7f52a4ca9ce1"
    },
    {
      "cell_type": "code",
      "source": [
        "ws.set_default_datastore('zombies')"
      ],
      "outputs": [],
      "execution_count": 35,
      "metadata": {
        "collapsed": true,
        "jupyter": {
          "source_hidden": false,
          "outputs_hidden": false
        },
        "nteract": {
          "transient": {
            "deleting": false
          }
        },
        "gather": {
          "logged": 1620282684725
        }
      },
      "id": "945cd4f7-8a4b-49f2-a052-a630af1174ec"
    }
  ],
  "metadata": {
    "kernelspec": {
      "name": "python3-azureml",
      "language": "python",
      "display_name": "Python 3.6 - AzureML"
    },
    "language_info": {
      "name": "python",
      "version": "3.6.9",
      "mimetype": "text/x-python",
      "codemirror_mode": {
        "name": "ipython",
        "version": 3
      },
      "pygments_lexer": "ipython3",
      "nbconvert_exporter": "python",
      "file_extension": ".py"
    },
    "kernel_info": {
      "name": "python3-azureml"
    },
    "microsoft": {
      "host": {
        "AzureML": {
          "notebookHasBeenCompleted": true
        }
      }
    },
    "nteract": {
      "version": "nteract-front-end@1.0.0"
    }
  },
  "nbformat": 4,
  "nbformat_minor": 5
}