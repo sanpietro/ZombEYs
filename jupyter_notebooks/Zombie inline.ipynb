{
  "cells": [
    {
      "cell_type": "code",
      "source": [
        "import azureml.core\n",
        "from azureml.core import Workspace\n",
        "\n",
        "# Load the workspace from the saved config file\n",
        "ws = Workspace.from_config()\n",
        "print('Ready to use Azure ML {} to work with {}'.format(azureml.core.VERSION, ws.name))"
      ],
      "outputs": [
        {
          "output_type": "stream",
          "name": "stdout",
          "text": [
            "Ready to use Azure ML 1.26.0 to work with 429test\n"
          ]
        }
      ],
      "execution_count": 1,
      "metadata": {
        "gather": {
          "logged": 1620205516936
        }
      },
      "id": "498fb459"
    },
    {
      "cell_type": "code",
      "source": [
        "from azureml.core import Experiment\n",
        "from azureml.core import Dataset\n",
        "import pandas as pd\n",
        "import numpy as np\n",
        "import matplotlib.pyplot as plt\n",
        "import seaborn as sns\n",
        "%matplotlib inline\n",
        "import joblib\n",
        "import os"
      ],
      "outputs": [],
      "execution_count": 2,
      "metadata": {
        "gather": {
          "logged": 1620205517756
        }
      },
      "id": "0670e4a6"
    },
    {
      "cell_type": "code",
      "source": [
        "# Create a folder for the experiment files\n",
        "experiment_folder = 'zombies_inline'\n",
        "os.makedirs(experiment_folder, exist_ok=True)\n",
        "print(experiment_folder, 'folder created')\n",
        "\n",
        "# Create an Azure ML experiment in your workspace\n",
        "experiment = Experiment(workspace=ws, name=\"429test\")\n",
        "\n",
        "# Start logging data from the experiment, obtaining a reference to the experiment run\n",
        "run = experiment.start_logging()\n",
        "print(\"Starting experiment:\", experiment.name)\n"
      ],
      "outputs": [
        {
          "output_type": "stream",
          "name": "stdout",
          "text": [
            "zombies_inline folder created\n",
            "Starting experiment: 429test\n"
          ]
        }
      ],
      "execution_count": 3,
      "metadata": {
        "gather": {
          "logged": 1620205523433
        }
      },
      "id": "e6f3128b"
    },
    {
      "cell_type": "code",
      "source": [
        "ws.get_default_datastore()"
      ],
      "outputs": [
        {
          "output_type": "execute_result",
          "execution_count": 4,
          "data": {
            "text/plain": "{\n  \"name\": \"workspaceblobstore\",\n  \"container_name\": \"azureml-blobstore-c1d2c1ad-a4f6-4d8d-b0d7-83a3ed52b912\",\n  \"account_name\": \"429test0160411344\",\n  \"protocol\": \"https\",\n  \"endpoint\": \"core.windows.net\"\n}"
          },
          "metadata": {}
        }
      ],
      "execution_count": 4,
      "metadata": {
        "gather": {
          "logged": 1620205524486
        }
      },
      "id": "ca73420f"
    },
    {
      "cell_type": "code",
      "source": [
        "dataset = Dataset.get_by_name(ws, name='zombies')\n",
        "zombies = dataset.to_pandas_dataframe()"
      ],
      "outputs": [],
      "execution_count": 5,
      "metadata": {
        "gather": {
          "logged": 1620205529022
        }
      },
      "id": "f4f4b156"
    },
    {
      "cell_type": "code",
      "source": [
        "zombies.info()"
      ],
      "outputs": [
        {
          "output_type": "stream",
          "name": "stdout",
          "text": [
            "<class 'pandas.core.frame.DataFrame'>\n",
            "RangeIndex: 838 entries, 0 to 837\n",
            "Data columns (total 8 columns):\n",
            "Age         838 non-null int64\n",
            "Num_Fam     838 non-null int64\n",
            "Ammo        838 non-null int64\n",
            "Bounty      838 non-null float64\n",
            "Human_1     838 non-null int64\n",
            "Zone_2      838 non-null int64\n",
            "Zone_3      838 non-null int64\n",
            "Sex_male    838 non-null int64\n",
            "dtypes: float64(1), int64(7)\n",
            "memory usage: 52.5 KB\n"
          ]
        }
      ],
      "execution_count": 6,
      "metadata": {
        "gather": {
          "logged": 1620205529140
        }
      },
      "id": "c1d81fdc"
    },
    {
      "cell_type": "code",
      "source": [
        "zom = zombies[['Human_1','Zone_2']]\n",
        "\n",
        "zombies['Human_1'] = zombies['Human_1'].astype('category')\n",
        "zombies['Zone_2'] = zombies['Zone_2'].astype('category')\n",
        "zombies['Zone_3'] = zombies['Zone_3'].astype('category')\n",
        "zombies['Sex_male'] = zombies['Sex_male'].astype('category')\n",
        "\n",
        "zombies.info()"
      ],
      "outputs": [
        {
          "output_type": "stream",
          "name": "stdout",
          "text": [
            "<class 'pandas.core.frame.DataFrame'>\n",
            "RangeIndex: 838 entries, 0 to 837\n",
            "Data columns (total 8 columns):\n",
            "Age         838 non-null int64\n",
            "Num_Fam     838 non-null int64\n",
            "Ammo        838 non-null int64\n",
            "Bounty      838 non-null float64\n",
            "Human_1     838 non-null category\n",
            "Zone_2      838 non-null category\n",
            "Zone_3      838 non-null category\n",
            "Sex_male    838 non-null category\n",
            "dtypes: category(4), float64(1), int64(3)\n",
            "memory usage: 30.0 KB\n"
          ]
        }
      ],
      "execution_count": 7,
      "metadata": {
        "gather": {
          "logged": 1620205529262
        }
      },
      "id": "70a091e1"
    },
    {
      "cell_type": "code",
      "source": [
        "zom_log = zombies.copy()\n",
        "for col in zom_log:\n",
        "    if zom_log[col].dtype.name != 'category':\n",
        "        zom_log[col] = zom_log[col].astype('float64').replace(0.0, 0.01)\n",
        "        zom_log[col] = np.log(zom_log[col])\n",
        "        \n",
        "zom_log.head()\n",
        "\n",
        "# zom_log.hist(figsize = (12,8),color=\"green\");\n",
        "\n",
        "# **Yikes! Since we are not able to coerce our data into a normal distribution, we'll just try to scale it instead.**\n",
        "\n",
        "## Splitting our dataset into a training set and a test set.\n",
        "\n",
        "X = zom_log[['Age','Num_Fam','Ammo','Human_1','Zone_2','Zone_3','Sex_male']]\n",
        "\n",
        "y = zom_log['Bounty']\n",
        "\n",
        "from sklearn.model_selection import train_test_split\n",
        "\n",
        "X_train, X_test, y_train, y_test = train_test_split(X, y, test_size=0.3, random_state=101)\n",
        "\n",
        "\n",
        "\n",
        "## Build a model with each categorical variable as a predictor\n",
        "\n",
        "import statsmodels.api as sm\n",
        "\n",
        "ols_model = sm.OLS(y,X.astype(float)).fit()\n",
        "ols_model.summary()\n",
        "\n"
      ],
      "outputs": [
        {
          "output_type": "execute_result",
          "execution_count": 8,
          "data": {
            "text/plain": "<class 'statsmodels.iolib.summary.Summary'>\n\"\"\"\n                                 OLS Regression Results                                \n=======================================================================================\nDep. Variable:                 Bounty   R-squared (uncentered):                   0.868\nModel:                            OLS   Adj. R-squared (uncentered):              0.867\nMethod:                 Least Squares   F-statistic:                              779.6\nDate:                Wed, 05 May 2021   Prob (F-statistic):                        0.00\nTime:                        09:05:29   Log-Likelihood:                         -1246.2\nNo. Observations:                 838   AIC:                                      2506.\nDf Residuals:                     831   BIC:                                      2539.\nDf Model:                           7                                                  \nCovariance Type:            nonrobust                                                  \n==============================================================================\n                 coef    std err          t      P>|t|      [0.025      0.975]\n------------------------------------------------------------------------------\nAge            0.1115      0.044      2.536      0.011       0.025       0.198\nNum_Fam        0.1861      0.016     11.574      0.000       0.155       0.218\nAmmo           0.3990      0.024     16.598      0.000       0.352       0.446\nHuman_1        0.3238      0.096      3.386      0.001       0.136       0.512\nZone_2        -0.7708      0.117     -6.584      0.000      -1.001      -0.541\nZone_3        -0.9744      0.105     -9.267      0.000      -1.181      -0.768\nSex_male       0.0462      0.095      0.484      0.628      -0.141       0.233\n==============================================================================\nOmnibus:                      867.454   Durbin-Watson:                   2.040\nProb(Omnibus):                  0.000   Jarque-Bera (JB):            37600.281\nSkew:                          -4.980   Prob(JB):                         0.00\nKurtosis:                      34.268   Cond. No.                         38.2\n==============================================================================\n\nWarnings:\n[1] Standard Errors assume that the covariance matrix of the errors is correctly specified.\n\"\"\"",
            "text/html": "<table class=\"simpletable\">\n<caption>OLS Regression Results</caption>\n<tr>\n  <th>Dep. Variable:</th>         <td>Bounty</td>      <th>  R-squared (uncentered):</th>      <td>   0.868</td>\n</tr>\n<tr>\n  <th>Model:</th>                   <td>OLS</td>       <th>  Adj. R-squared (uncentered):</th> <td>   0.867</td>\n</tr>\n<tr>\n  <th>Method:</th>             <td>Least Squares</td>  <th>  F-statistic:       </th>          <td>   779.6</td>\n</tr>\n<tr>\n  <th>Date:</th>             <td>Wed, 05 May 2021</td> <th>  Prob (F-statistic):</th>           <td>  0.00</td> \n</tr>\n<tr>\n  <th>Time:</th>                 <td>09:05:29</td>     <th>  Log-Likelihood:    </th>          <td> -1246.2</td>\n</tr>\n<tr>\n  <th>No. Observations:</th>      <td>   838</td>      <th>  AIC:               </th>          <td>   2506.</td>\n</tr>\n<tr>\n  <th>Df Residuals:</th>          <td>   831</td>      <th>  BIC:               </th>          <td>   2539.</td>\n</tr>\n<tr>\n  <th>Df Model:</th>              <td>     7</td>      <th>                     </th>              <td> </td>   \n</tr>\n<tr>\n  <th>Covariance Type:</th>      <td>nonrobust</td>    <th>                     </th>              <td> </td>   \n</tr>\n</table>\n<table class=\"simpletable\">\n<tr>\n      <td></td>        <th>coef</th>     <th>std err</th>      <th>t</th>      <th>P>|t|</th>  <th>[0.025</th>    <th>0.975]</th>  \n</tr>\n<tr>\n  <th>Age</th>      <td>    0.1115</td> <td>    0.044</td> <td>    2.536</td> <td> 0.011</td> <td>    0.025</td> <td>    0.198</td>\n</tr>\n<tr>\n  <th>Num_Fam</th>  <td>    0.1861</td> <td>    0.016</td> <td>   11.574</td> <td> 0.000</td> <td>    0.155</td> <td>    0.218</td>\n</tr>\n<tr>\n  <th>Ammo</th>     <td>    0.3990</td> <td>    0.024</td> <td>   16.598</td> <td> 0.000</td> <td>    0.352</td> <td>    0.446</td>\n</tr>\n<tr>\n  <th>Human_1</th>  <td>    0.3238</td> <td>    0.096</td> <td>    3.386</td> <td> 0.001</td> <td>    0.136</td> <td>    0.512</td>\n</tr>\n<tr>\n  <th>Zone_2</th>   <td>   -0.7708</td> <td>    0.117</td> <td>   -6.584</td> <td> 0.000</td> <td>   -1.001</td> <td>   -0.541</td>\n</tr>\n<tr>\n  <th>Zone_3</th>   <td>   -0.9744</td> <td>    0.105</td> <td>   -9.267</td> <td> 0.000</td> <td>   -1.181</td> <td>   -0.768</td>\n</tr>\n<tr>\n  <th>Sex_male</th> <td>    0.0462</td> <td>    0.095</td> <td>    0.484</td> <td> 0.628</td> <td>   -0.141</td> <td>    0.233</td>\n</tr>\n</table>\n<table class=\"simpletable\">\n<tr>\n  <th>Omnibus:</th>       <td>867.454</td> <th>  Durbin-Watson:     </th> <td>   2.040</td> \n</tr>\n<tr>\n  <th>Prob(Omnibus):</th> <td> 0.000</td>  <th>  Jarque-Bera (JB):  </th> <td>37600.281</td>\n</tr>\n<tr>\n  <th>Skew:</th>          <td>-4.980</td>  <th>  Prob(JB):          </th> <td>    0.00</td> \n</tr>\n<tr>\n  <th>Kurtosis:</th>      <td>34.268</td>  <th>  Cond. No.          </th> <td>    38.2</td> \n</tr>\n</table><br/><br/>Warnings:<br/>[1] Standard Errors assume that the covariance matrix of the errors is correctly specified."
          },
          "metadata": {}
        }
      ],
      "execution_count": 8,
      "metadata": {
        "gather": {
          "logged": 1620205529421
        }
      },
      "id": "15ac54bd"
    },
    {
      "cell_type": "code",
      "source": [
        "r2 = ols_model.rsquared\n",
        "run.log(\"r2\",r2)"
      ],
      "outputs": [],
      "execution_count": 9,
      "metadata": {
        "gather": {
          "logged": 1620205529570
        }
      },
      "id": "6ea8ede8"
    },
    {
      "cell_type": "code",
      "source": [
        "r2_adj = ols_model.rsquared_adj\n",
        "run.log(\"r2_adj\",r2_adj)"
      ],
      "outputs": [],
      "execution_count": 10,
      "metadata": {
        "gather": {
          "logged": 1620205529706
        }
      },
      "id": "469887d8"
    },
    {
      "cell_type": "code",
      "source": [
        "metrics = run.get_metrics()\n",
        "for key in metrics.keys():\n",
        "        print(key, metrics.get(key))"
      ],
      "outputs": [],
      "execution_count": 11,
      "metadata": {
        "gather": {
          "logged": 1620205529777
        }
      },
      "id": "0b3fbcd6"
    },
    {
      "cell_type": "code",
      "source": [
        "print(metrics)"
      ],
      "outputs": [
        {
          "output_type": "stream",
          "name": "stdout",
          "text": [
            "{}\n"
          ]
        }
      ],
      "execution_count": 12,
      "metadata": {
        "scrolled": true,
        "gather": {
          "logged": 1620205529897
        }
      },
      "id": "8b241485"
    },
    {
      "cell_type": "code",
      "source": [
        "preds = ols_model.predict()"
      ],
      "outputs": [],
      "execution_count": 13,
      "metadata": {
        "collapsed": true,
        "jupyter": {
          "source_hidden": false,
          "outputs_hidden": false
        },
        "nteract": {
          "transient": {
            "deleting": false
          }
        },
        "gather": {
          "logged": 1620205530012
        }
      },
      "id": "4c8195c4-efeb-47f9-89e6-45f3d7aa1bf3"
    },
    {
      "cell_type": "code",
      "source": [
        "# Save the trained model in the outputs folder\n",
        "os.makedirs('outputs', exist_ok=True)\n",
        "joblib.dump(value=ols_model, filename='outputs/zombies.pkl')\n",
        "\n",
        "run.complete()"
      ],
      "outputs": [],
      "execution_count": null,
      "metadata": {
        "gather": {
          "logged": 1620200406375
        }
      },
      "id": "386a95b9"
    },
    {
      "cell_type": "code",
      "source": [],
      "outputs": [],
      "execution_count": null,
      "metadata": {},
      "id": "e78b8fe6"
    },
    {
      "cell_type": "code",
      "source": [
        "from azureml.core import Model\n",
        "\n",
        "# Register the model\n",
        "run.register_model(model_path='outputs/zombies.pkl', model_name='zombies_model',properties={'r2': run.get_metrics()['r2'], 'r2_adj': run.get_metrics()['r2_adj']})\n",
        "\n",
        "# List registered models\n",
        "for model in Model.list(ws):\n",
        "    print(model.name, 'version:', model.version)\n",
        "#     for tag_name in model.tags:\n",
        "#         tag = model.tags[tag_name]\n",
        "#         print ('\\t',tag_name, ':', tag)\n",
        "    for prop_name in model.properties:\n",
        "        prop = model.properties[prop_name]\n",
        "        print ('\\t',prop_name, ':', prop)\n",
        "    print('\\n')"
      ],
      "outputs": [],
      "execution_count": null,
      "metadata": {
        "gather": {
          "logged": 1620201127280
        }
      },
      "id": "8f9940e6"
    },
    {
      "cell_type": "code",
      "source": [
        "preds"
      ],
      "outputs": [],
      "execution_count": null,
      "metadata": {
        "gather": {
          "logged": 1620200418290
        }
      },
      "id": "78ef6935"
    },
    {
      "cell_type": "code",
      "source": [
        "print(X_test)"
      ],
      "outputs": [],
      "execution_count": null,
      "metadata": {
        "collapsed": true,
        "jupyter": {
          "source_hidden": false,
          "outputs_hidden": false
        },
        "nteract": {
          "transient": {
            "deleting": false
          }
        },
        "gather": {
          "logged": 1620201133612
        }
      },
      "id": "65a85d4c-9959-452f-a2e8-882d5e12ce25"
    },
    {
      "cell_type": "code",
      "source": [
        "\n",
        "dataset = dataset.register(workspace = ws,\n",
        "                           name = 'x_test_dataset',\n",
        "                           create_new_version=True)"
      ],
      "outputs": [],
      "execution_count": null,
      "metadata": {
        "collapsed": true,
        "jupyter": {
          "source_hidden": false,
          "outputs_hidden": false
        },
        "nteract": {
          "transient": {
            "deleting": false
          }
        },
        "gather": {
          "logged": 1620201139328
        }
      },
      "id": "a99004b9-b898-4a7f-a172-cb1adaf311c2"
    },
    {
      "cell_type": "code",
      "source": [
        "X_test.to_csv('xtest.csv',index=True)"
      ],
      "outputs": [],
      "execution_count": null,
      "metadata": {
        "collapsed": true,
        "jupyter": {
          "source_hidden": false,
          "outputs_hidden": false
        },
        "nteract": {
          "transient": {
            "deleting": false
          }
        },
        "gather": {
          "logged": 1619907801913
        }
      },
      "id": "bc8dfb3c-6a13-4de2-a68b-0e99176ad7cc"
    },
    {
      "cell_type": "code",
      "source": [],
      "outputs": [],
      "execution_count": null,
      "metadata": {
        "collapsed": true,
        "jupyter": {
          "source_hidden": false,
          "outputs_hidden": false
        },
        "nteract": {
          "transient": {
            "deleting": false
          }
        }
      },
      "id": "945cd4f7-8a4b-49f2-a052-a630af1174ec"
    }
  ],
  "metadata": {
    "kernelspec": {
      "name": "python3-azureml",
      "language": "python",
      "display_name": "Python 3.6 - AzureML"
    },
    "language_info": {
      "name": "python",
      "version": "3.6.9",
      "mimetype": "text/x-python",
      "codemirror_mode": {
        "name": "ipython",
        "version": 3
      },
      "pygments_lexer": "ipython3",
      "nbconvert_exporter": "python",
      "file_extension": ".py"
    },
    "kernel_info": {
      "name": "python3-azureml"
    },
    "microsoft": {
      "host": {
        "AzureML": {
          "notebookHasBeenCompleted": true
        }
      }
    },
    "nteract": {
      "version": "nteract-front-end@1.0.0"
    }
  },
  "nbformat": 4,
  "nbformat_minor": 5
}