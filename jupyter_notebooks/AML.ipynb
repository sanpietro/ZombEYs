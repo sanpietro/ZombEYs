{
  "cells": [
    {
      "cell_type": "code",
      "source": [
        "!pip install azureml-train-automl-client, azureml-train-automl-runtime, azureml-dataset-runtime, azureml-automl-runtime, azureml-automl-core\n",
        "!pip show azureml-train-automl\n",
        "!pip install azureml-widgets\n",
        "!pip install -r /anaconda/envs/azureml_py36/lib/python3.6/site-packages/azureml/automl/core/validated_linux_requirements.txt"
      ],
      "outputs": [
        {
          "output_type": "stream",
          "name": "stdout",
          "text": [
            "\u001b[31mERROR: Invalid requirement: 'azureml-train-automl-client,'\u001b[0m\n",
            "Name: azureml-train-automl\n",
            "Version: 1.26.0\n",
            "Summary: automl\n",
            "Home-page: https://docs.microsoft.com/python/api/overview/azure/ml/?view=azure-ml-py\n",
            "Author: Microsoft Corp\n",
            "Author-email: None\n",
            "License: https://aka.ms/azureml-sdk-license\n",
            "Location: /anaconda/envs/azureml_py36/lib/python3.6/site-packages\n",
            "Requires: azureml-train-automl-runtime, azureml-train-automl-client, azureml-dataset-runtime, azureml-automl-runtime, azureml-automl-core\n",
            "Required-by: azureml-automl-dnn-nlp\n",
            "Requirement already satisfied: azureml-widgets in /anaconda/envs/azureml_py36/lib/python3.6/site-packages (1.26.0)\n",
            "Requirement already satisfied: azure-storage-blob>=12.6.0 in /anaconda/envs/azureml_py36/lib/python3.6/site-packages (from azureml-widgets) (12.8.0)\n",
            "Requirement already satisfied: ipywidgets>=7.0.0 in /anaconda/envs/azureml_py36/lib/python3.6/site-packages (from azureml-widgets) (7.6.3)\n",
            "Requirement already satisfied: azureml-core~=1.26.0 in /anaconda/envs/azureml_py36/lib/python3.6/site-packages (from azureml-widgets) (1.26.0)\n",
            "Requirement already satisfied: azureml-telemetry~=1.26.0 in /anaconda/envs/azureml_py36/lib/python3.6/site-packages (from azureml-widgets) (1.26.0)\n",
            "Requirement already satisfied: msrest>=0.6.18 in /anaconda/envs/azureml_py36/lib/python3.6/site-packages (from azure-storage-blob>=12.6.0->azureml-widgets) (0.6.21)\n",
            "Requirement already satisfied: azure-core<2.0.0,>=1.10.0 in /anaconda/envs/azureml_py36/lib/python3.6/site-packages (from azure-storage-blob>=12.6.0->azureml-widgets) (1.13.0)\n",
            "Requirement already satisfied: cryptography>=2.1.4 in /anaconda/envs/azureml_py36/lib/python3.6/site-packages (from azure-storage-blob>=12.6.0->azureml-widgets) (3.4.7)\n",
            "Requirement already satisfied: ipython>=4.0.0; python_version >= \"3.3\" in /anaconda/envs/azureml_py36/lib/python3.6/site-packages (from ipywidgets>=7.0.0->azureml-widgets) (7.16.1)\n",
            "Requirement already satisfied: traitlets>=4.3.1 in /anaconda/envs/azureml_py36/lib/python3.6/site-packages (from ipywidgets>=7.0.0->azureml-widgets) (4.3.3)\n",
            "Requirement already satisfied: ipykernel>=4.5.1 in /anaconda/envs/azureml_py36/lib/python3.6/site-packages (from ipywidgets>=7.0.0->azureml-widgets) (5.5.3)\n",
            "Requirement already satisfied: nbformat>=4.2.0 in /anaconda/envs/azureml_py36/lib/python3.6/site-packages (from ipywidgets>=7.0.0->azureml-widgets) (5.1.3)\n",
            "Requirement already satisfied: jupyterlab-widgets>=1.0.0; python_version >= \"3.6\" in /anaconda/envs/azureml_py36/lib/python3.6/site-packages (from ipywidgets>=7.0.0->azureml-widgets) (1.0.0)\n",
            "Requirement already satisfied: widgetsnbextension~=3.5.0 in /anaconda/envs/azureml_py36/lib/python3.6/site-packages (from ipywidgets>=7.0.0->azureml-widgets) (3.5.1)\n",
            "Requirement already satisfied: contextlib2 in /anaconda/envs/azureml_py36/lib/python3.6/site-packages (from azureml-core~=1.26.0->azureml-widgets) (0.6.0.post1)\n",
            "Requirement already satisfied: azure-mgmt-storage<16.0.0,>=1.5.0 in /anaconda/envs/azureml_py36/lib/python3.6/site-packages (from azureml-core~=1.26.0->azureml-widgets) (11.2.0)\n",
            "Requirement already satisfied: PyJWT<3.0.0 in /anaconda/envs/azureml_py36/lib/python3.6/site-packages (from azureml-core~=1.26.0->azureml-widgets) (2.0.1)\n",
            "Requirement already satisfied: SecretStorage in /anaconda/envs/azureml_py36/lib/python3.6/site-packages (from azureml-core~=1.26.0->azureml-widgets) (3.3.1)\n",
            "Requirement already satisfied: urllib3>=1.23 in /anaconda/envs/azureml_py36/lib/python3.6/site-packages (from azureml-core~=1.26.0->azureml-widgets) (1.25.11)\n",
            "Requirement already satisfied: adal>=1.2.0 in /anaconda/envs/azureml_py36/lib/python3.6/site-packages (from azureml-core~=1.26.0->azureml-widgets) (1.2.6)\n",
            "Requirement already satisfied: azure-mgmt-keyvault<7.0.0,>=0.40.0 in /anaconda/envs/azureml_py36/lib/python3.6/site-packages (from azureml-core~=1.26.0->azureml-widgets) (2.2.0)\n",
            "Requirement already satisfied: requests<3.0.0,>=2.19.1 in /anaconda/envs/azureml_py36/lib/python3.6/site-packages (from azureml-core~=1.26.0->azureml-widgets) (2.25.1)\n",
            "Requirement already satisfied: azure-mgmt-authorization<1.0.0,>=0.40.0 in /anaconda/envs/azureml_py36/lib/python3.6/site-packages (from azureml-core~=1.26.0->azureml-widgets) (0.61.0)\n",
            "Requirement already satisfied: pytz in /anaconda/envs/azureml_py36/lib/python3.6/site-packages (from azureml-core~=1.26.0->azureml-widgets) (2021.1)\n",
            "Requirement already satisfied: azure-common>=1.1.12 in /anaconda/envs/azureml_py36/lib/python3.6/site-packages (from azureml-core~=1.26.0->azureml-widgets) (1.1.27)\n",
            "Requirement already satisfied: azure-mgmt-resource<15.0.0,>=1.2.1 in /anaconda/envs/azureml_py36/lib/python3.6/site-packages (from azureml-core~=1.26.0->azureml-widgets) (12.1.0)\n",
            "Requirement already satisfied: ndg-httpsclient in /anaconda/envs/azureml_py36/lib/python3.6/site-packages (from azureml-core~=1.26.0->azureml-widgets) (0.5.1)\n",
            "Requirement already satisfied: jmespath in /anaconda/envs/azureml_py36/lib/python3.6/site-packages (from azureml-core~=1.26.0->azureml-widgets) (0.10.0)\n",
            "Requirement already satisfied: pathspec in /anaconda/envs/azureml_py36/lib/python3.6/site-packages (from azureml-core~=1.26.0->azureml-widgets) (0.8.1)\n",
            "Requirement already satisfied: azure-mgmt-containerregistry>=2.0.0 in /anaconda/envs/azureml_py36/lib/python3.6/site-packages (from azureml-core~=1.26.0->azureml-widgets) (2.8.0)\n",
            "Requirement already satisfied: ruamel.yaml>=0.15.35 in /anaconda/envs/azureml_py36/lib/python3.6/site-packages (from azureml-core~=1.26.0->azureml-widgets) (0.17.2)\n",
            "Requirement already satisfied: docker in /anaconda/envs/azureml_py36/lib/python3.6/site-packages (from azureml-core~=1.26.0->azureml-widgets) (4.4.4)\n",
            "Requirement already satisfied: jsonpickle in /anaconda/envs/azureml_py36/lib/python3.6/site-packages (from azureml-core~=1.26.0->azureml-widgets) (2.0.0)\n",
            "Requirement already satisfied: backports.tempfile in /anaconda/envs/azureml_py36/lib/python3.6/site-packages (from azureml-core~=1.26.0->azureml-widgets) (1.0)\n",
            "Requirement already satisfied: python-dateutil>=2.7.3 in /anaconda/envs/azureml_py36/lib/python3.6/site-packages (from azureml-core~=1.26.0->azureml-widgets) (2.8.1)\n",
            "Requirement already satisfied: msrestazure>=0.4.33 in /anaconda/envs/azureml_py36/lib/python3.6/site-packages (from azureml-core~=1.26.0->azureml-widgets) (0.6.4)\n",
            "Requirement already satisfied: pyopenssl<21.0.0 in /anaconda/envs/azureml_py36/lib/python3.6/site-packages (from azureml-core~=1.26.0->azureml-widgets) (20.0.1)\n",
            "Requirement already satisfied: azure-graphrbac<1.0.0,>=0.40.0 in /anaconda/envs/azureml_py36/lib/python3.6/site-packages (from azureml-core~=1.26.0->azureml-widgets) (0.61.1)\n",
            "Requirement already satisfied: applicationinsights in /anaconda/envs/azureml_py36/lib/python3.6/site-packages (from azureml-telemetry~=1.26.0->azureml-widgets) (0.11.9)\n",
            "Requirement already satisfied: certifi>=2017.4.17 in /anaconda/envs/azureml_py36/lib/python3.6/site-packages (from msrest>=0.6.18->azure-storage-blob>=12.6.0->azureml-widgets) (2020.12.5)\n",
            "Requirement already satisfied: requests-oauthlib>=0.5.0 in /anaconda/envs/azureml_py36/lib/python3.6/site-packages (from msrest>=0.6.18->azure-storage-blob>=12.6.0->azureml-widgets) (1.3.0)\n",
            "Requirement already satisfied: isodate>=0.6.0 in /anaconda/envs/azureml_py36/lib/python3.6/site-packages (from msrest>=0.6.18->azure-storage-blob>=12.6.0->azureml-widgets) (0.6.0)\n",
            "Requirement already satisfied: six>=1.11.0 in /anaconda/envs/azureml_py36/lib/python3.6/site-packages (from azure-core<2.0.0,>=1.10.0->azure-storage-blob>=12.6.0->azureml-widgets) (1.15.0)\n",
            "Requirement already satisfied: cffi>=1.12 in /anaconda/envs/azureml_py36/lib/python3.6/site-packages (from cryptography>=2.1.4->azure-storage-blob>=12.6.0->azureml-widgets) (1.14.5)\n",
            "Requirement already satisfied: jedi>=0.10 in /anaconda/envs/azureml_py36/lib/python3.6/site-packages (from ipython>=4.0.0; python_version >= \"3.3\"->ipywidgets>=7.0.0->azureml-widgets) (0.17.2)\n",
            "Requirement already satisfied: decorator in /anaconda/envs/azureml_py36/lib/python3.6/site-packages (from ipython>=4.0.0; python_version >= \"3.3\"->ipywidgets>=7.0.0->azureml-widgets) (5.0.5)\n",
            "Requirement already satisfied: pygments in /anaconda/envs/azureml_py36/lib/python3.6/site-packages (from ipython>=4.0.0; python_version >= \"3.3\"->ipywidgets>=7.0.0->azureml-widgets) (2.8.1)\n",
            "Requirement already satisfied: setuptools>=18.5 in /anaconda/envs/azureml_py36/lib/python3.6/site-packages (from ipython>=4.0.0; python_version >= \"3.3\"->ipywidgets>=7.0.0->azureml-widgets) (50.3.0)\n",
            "Requirement already satisfied: backcall in /anaconda/envs/azureml_py36/lib/python3.6/site-packages (from ipython>=4.0.0; python_version >= \"3.3\"->ipywidgets>=7.0.0->azureml-widgets) (0.2.0)\n",
            "Requirement already satisfied: pexpect; sys_platform != \"win32\" in /anaconda/envs/azureml_py36/lib/python3.6/site-packages (from ipython>=4.0.0; python_version >= \"3.3\"->ipywidgets>=7.0.0->azureml-widgets) (4.8.0)\n",
            "Requirement already satisfied: prompt-toolkit!=3.0.0,!=3.0.1,<3.1.0,>=2.0.0 in /anaconda/envs/azureml_py36/lib/python3.6/site-packages (from ipython>=4.0.0; python_version >= \"3.3\"->ipywidgets>=7.0.0->azureml-widgets) (3.0.18)\n",
            "Requirement already satisfied: pickleshare in /anaconda/envs/azureml_py36/lib/python3.6/site-packages (from ipython>=4.0.0; python_version >= \"3.3\"->ipywidgets>=7.0.0->azureml-widgets) (0.7.5)\n",
            "Requirement already satisfied: ipython-genutils in /anaconda/envs/azureml_py36/lib/python3.6/site-packages (from traitlets>=4.3.1->ipywidgets>=7.0.0->azureml-widgets) (0.2.0)\n",
            "Requirement already satisfied: tornado>=4.2 in /anaconda/envs/azureml_py36/lib/python3.6/site-packages (from ipykernel>=4.5.1->ipywidgets>=7.0.0->azureml-widgets) (6.1)\n",
            "Requirement already satisfied: jupyter-client in /anaconda/envs/azureml_py36/lib/python3.6/site-packages (from ipykernel>=4.5.1->ipywidgets>=7.0.0->azureml-widgets) (6.1.12)\n",
            "Requirement already satisfied: jupyter-core in /anaconda/envs/azureml_py36/lib/python3.6/site-packages (from nbformat>=4.2.0->ipywidgets>=7.0.0->azureml-widgets) (4.7.1)\n",
            "Requirement already satisfied: jsonschema!=2.5.0,>=2.4 in /anaconda/envs/azureml_py36/lib/python3.6/site-packages (from nbformat>=4.2.0->ipywidgets>=7.0.0->azureml-widgets) (3.2.0)\n",
            "Requirement already satisfied: notebook>=4.4.1 in /anaconda/envs/azureml_py36/lib/python3.6/site-packages (from widgetsnbextension~=3.5.0->ipywidgets>=7.0.0->azureml-widgets) (6.3.0)\n",
            "Requirement already satisfied: jeepney>=0.6 in /anaconda/envs/azureml_py36/lib/python3.6/site-packages (from SecretStorage->azureml-core~=1.26.0->azureml-widgets) (0.6.0)\n",
            "Requirement already satisfied: chardet<5,>=3.0.2 in /anaconda/envs/azureml_py36/lib/python3.6/site-packages (from requests<3.0.0,>=2.19.1->azureml-core~=1.26.0->azureml-widgets) (4.0.0)\n",
            "Requirement already satisfied: idna<3,>=2.5 in /anaconda/envs/azureml_py36/lib/python3.6/site-packages (from requests<3.0.0,>=2.19.1->azureml-core~=1.26.0->azureml-widgets) (2.10)\n",
            "Requirement already satisfied: pyasn1>=0.1.1 in /anaconda/envs/azureml_py36/lib/python3.6/site-packages (from ndg-httpsclient->azureml-core~=1.26.0->azureml-widgets) (0.4.8)\n",
            "Requirement already satisfied: ruamel.yaml.clib>=0.1.2; platform_python_implementation == \"CPython\" and python_version < \"3.10\" in /anaconda/envs/azureml_py36/lib/python3.6/site-packages (from ruamel.yaml>=0.15.35->azureml-core~=1.26.0->azureml-widgets) (0.2.2)\n",
            "Requirement already satisfied: websocket-client>=0.32.0 in /anaconda/envs/azureml_py36/lib/python3.6/site-packages (from docker->azureml-core~=1.26.0->azureml-widgets) (0.58.0)\n",
            "Requirement already satisfied: importlib-metadata; python_version < \"3.8\" in /anaconda/envs/azureml_py36/lib/python3.6/site-packages (from jsonpickle->azureml-core~=1.26.0->azureml-widgets) (3.10.0)\n",
            "Requirement already satisfied: backports.weakref in /anaconda/envs/azureml_py36/lib/python3.6/site-packages (from backports.tempfile->azureml-core~=1.26.0->azureml-widgets) (1.0.post1)\n",
            "Requirement already satisfied: oauthlib>=3.0.0 in /anaconda/envs/azureml_py36/lib/python3.6/site-packages (from requests-oauthlib>=0.5.0->msrest>=0.6.18->azure-storage-blob>=12.6.0->azureml-widgets) (3.1.0)\n",
            "Requirement already satisfied: pycparser in /anaconda/envs/azureml_py36/lib/python3.6/site-packages (from cffi>=1.12->cryptography>=2.1.4->azure-storage-blob>=12.6.0->azureml-widgets) (2.20)\n",
            "Requirement already satisfied: parso<0.8.0,>=0.7.0 in /anaconda/envs/azureml_py36/lib/python3.6/site-packages (from jedi>=0.10->ipython>=4.0.0; python_version >= \"3.3\"->ipywidgets>=7.0.0->azureml-widgets) (0.7.1)\n",
            "Requirement already satisfied: ptyprocess>=0.5 in /anaconda/envs/azureml_py36/lib/python3.6/site-packages (from pexpect; sys_platform != \"win32\"->ipython>=4.0.0; python_version >= \"3.3\"->ipywidgets>=7.0.0->azureml-widgets) (0.7.0)\n",
            "Requirement already satisfied: wcwidth in /anaconda/envs/azureml_py36/lib/python3.6/site-packages (from prompt-toolkit!=3.0.0,!=3.0.1,<3.1.0,>=2.0.0->ipython>=4.0.0; python_version >= \"3.3\"->ipywidgets>=7.0.0->azureml-widgets) (0.2.5)\n",
            "Requirement already satisfied: pyzmq>=13 in /anaconda/envs/azureml_py36/lib/python3.6/site-packages (from jupyter-client->ipykernel>=4.5.1->ipywidgets>=7.0.0->azureml-widgets) (22.0.3)\n",
            "Requirement already satisfied: pyrsistent>=0.14.0 in /anaconda/envs/azureml_py36/lib/python3.6/site-packages (from jsonschema!=2.5.0,>=2.4->nbformat>=4.2.0->ipywidgets>=7.0.0->azureml-widgets) (0.17.3)\n",
            "Requirement already satisfied: attrs>=17.4.0 in /anaconda/envs/azureml_py36/lib/python3.6/site-packages (from jsonschema!=2.5.0,>=2.4->nbformat>=4.2.0->ipywidgets>=7.0.0->azureml-widgets) (20.3.0)\n",
            "Requirement already satisfied: terminado>=0.8.3 in /anaconda/envs/azureml_py36/lib/python3.6/site-packages (from notebook>=4.4.1->widgetsnbextension~=3.5.0->ipywidgets>=7.0.0->azureml-widgets) (0.9.4)\n",
            "Requirement already satisfied: prometheus-client in /anaconda/envs/azureml_py36/lib/python3.6/site-packages (from notebook>=4.4.1->widgetsnbextension~=3.5.0->ipywidgets>=7.0.0->azureml-widgets) (0.10.0)\n",
            "Requirement already satisfied: argon2-cffi in /anaconda/envs/azureml_py36/lib/python3.6/site-packages (from notebook>=4.4.1->widgetsnbextension~=3.5.0->ipywidgets>=7.0.0->azureml-widgets) (20.1.0)\n",
            "Requirement already satisfied: nbconvert in /anaconda/envs/azureml_py36/lib/python3.6/site-packages (from notebook>=4.4.1->widgetsnbextension~=3.5.0->ipywidgets>=7.0.0->azureml-widgets) (5.6.1)\n",
            "Requirement already satisfied: Send2Trash>=1.5.0 in /anaconda/envs/azureml_py36/lib/python3.6/site-packages (from notebook>=4.4.1->widgetsnbextension~=3.5.0->ipywidgets>=7.0.0->azureml-widgets) (1.5.0)\n",
            "Requirement already satisfied: jinja2 in /anaconda/envs/azureml_py36/lib/python3.6/site-packages (from notebook>=4.4.1->widgetsnbextension~=3.5.0->ipywidgets>=7.0.0->azureml-widgets) (2.11.1)\n",
            "Requirement already satisfied: zipp>=0.5 in /anaconda/envs/azureml_py36/lib/python3.6/site-packages (from importlib-metadata; python_version < \"3.8\"->jsonpickle->azureml-core~=1.26.0->azureml-widgets) (3.4.1)\n",
            "Requirement already satisfied: typing-extensions>=3.6.4; python_version < \"3.8\" in /anaconda/envs/azureml_py36/lib/python3.6/site-packages (from importlib-metadata; python_version < \"3.8\"->jsonpickle->azureml-core~=1.26.0->azureml-widgets) (3.7.4.3)\n",
            "Requirement already satisfied: testpath in /anaconda/envs/azureml_py36/lib/python3.6/site-packages (from nbconvert->notebook>=4.4.1->widgetsnbextension~=3.5.0->ipywidgets>=7.0.0->azureml-widgets) (0.4.4)\n",
            "Requirement already satisfied: pandocfilters>=1.4.1 in /anaconda/envs/azureml_py36/lib/python3.6/site-packages (from nbconvert->notebook>=4.4.1->widgetsnbextension~=3.5.0->ipywidgets>=7.0.0->azureml-widgets) (1.4.3)\n",
            "Requirement already satisfied: bleach in /anaconda/envs/azureml_py36/lib/python3.6/site-packages (from nbconvert->notebook>=4.4.1->widgetsnbextension~=3.5.0->ipywidgets>=7.0.0->azureml-widgets) (3.3.0)\n",
            "Requirement already satisfied: defusedxml in /anaconda/envs/azureml_py36/lib/python3.6/site-packages (from nbconvert->notebook>=4.4.1->widgetsnbextension~=3.5.0->ipywidgets>=7.0.0->azureml-widgets) (0.7.1)\n",
            "Requirement already satisfied: entrypoints>=0.2.2 in /anaconda/envs/azureml_py36/lib/python3.6/site-packages (from nbconvert->notebook>=4.4.1->widgetsnbextension~=3.5.0->ipywidgets>=7.0.0->azureml-widgets) (0.3)\n",
            "Requirement already satisfied: mistune<2,>=0.8.1 in /anaconda/envs/azureml_py36/lib/python3.6/site-packages (from nbconvert->notebook>=4.4.1->widgetsnbextension~=3.5.0->ipywidgets>=7.0.0->azureml-widgets) (0.8.4)\n",
            "Requirement already satisfied: MarkupSafe>=0.23 in /anaconda/envs/azureml_py36/lib/python3.6/site-packages (from jinja2->notebook>=4.4.1->widgetsnbextension~=3.5.0->ipywidgets>=7.0.0->azureml-widgets) (1.1.1)\n",
            "Requirement already satisfied: webencodings in /anaconda/envs/azureml_py36/lib/python3.6/site-packages (from bleach->nbconvert->notebook>=4.4.1->widgetsnbextension~=3.5.0->ipywidgets>=7.0.0->azureml-widgets) (0.5.1)\n",
            "Requirement already satisfied: packaging in /anaconda/envs/azureml_py36/lib/python3.6/site-packages (from bleach->nbconvert->notebook>=4.4.1->widgetsnbextension~=3.5.0->ipywidgets>=7.0.0->azureml-widgets) (20.9)\n",
            "Requirement already satisfied: pyparsing>=2.0.2 in /anaconda/envs/azureml_py36/lib/python3.6/site-packages (from packaging->bleach->nbconvert->notebook>=4.4.1->widgetsnbextension~=3.5.0->ipywidgets>=7.0.0->azureml-widgets) (2.4.7)\n",
            "Requirement already satisfied: adal<=1.2.6 in /anaconda/envs/azureml_py36/lib/python3.6/site-packages (from -r /anaconda/envs/azureml_py36/lib/python3.6/site-packages/azureml/automl/core/validated_linux_requirements.txt (line 1)) (1.2.6)\n",
            "Requirement already satisfied: applicationinsights<=0.11.9 in /anaconda/envs/azureml_py36/lib/python3.6/site-packages (from -r /anaconda/envs/azureml_py36/lib/python3.6/site-packages/azureml/automl/core/validated_linux_requirements.txt (line 2)) (0.11.9)\n",
            "Requirement already satisfied: azure-common<=1.1.27 in /anaconda/envs/azureml_py36/lib/python3.6/site-packages (from -r /anaconda/envs/azureml_py36/lib/python3.6/site-packages/azureml/automl/core/validated_linux_requirements.txt (line 3)) (1.1.27)\n",
            "Requirement already satisfied: azure-core<=1.13.0 in /anaconda/envs/azureml_py36/lib/python3.6/site-packages (from -r /anaconda/envs/azureml_py36/lib/python3.6/site-packages/azureml/automl/core/validated_linux_requirements.txt (line 4)) (1.13.0)\n",
            "Requirement already satisfied: azure-graphrbac<=0.61.1 in /anaconda/envs/azureml_py36/lib/python3.6/site-packages (from -r /anaconda/envs/azureml_py36/lib/python3.6/site-packages/azureml/automl/core/validated_linux_requirements.txt (line 5)) (0.61.1)\n",
            "Requirement already satisfied: azure-identity<=1.4.1 in /anaconda/envs/azureml_py36/lib/python3.6/site-packages (from -r /anaconda/envs/azureml_py36/lib/python3.6/site-packages/azureml/automl/core/validated_linux_requirements.txt (line 6)) (1.4.1)\n",
            "Requirement already satisfied: azure-mgmt-authorization<=0.61.0 in /anaconda/envs/azureml_py36/lib/python3.6/site-packages (from -r /anaconda/envs/azureml_py36/lib/python3.6/site-packages/azureml/automl/core/validated_linux_requirements.txt (line 7)) (0.61.0)\n",
            "Requirement already satisfied: azure-mgmt-containerregistry<=2.8.0 in /anaconda/envs/azureml_py36/lib/python3.6/site-packages (from -r /anaconda/envs/azureml_py36/lib/python3.6/site-packages/azureml/automl/core/validated_linux_requirements.txt (line 8)) (2.8.0)\n",
            "Requirement already satisfied: azure-mgmt-keyvault<=2.2.0 in /anaconda/envs/azureml_py36/lib/python3.6/site-packages (from -r /anaconda/envs/azureml_py36/lib/python3.6/site-packages/azureml/automl/core/validated_linux_requirements.txt (line 9)) (2.2.0)\n",
            "Requirement already satisfied: azure-mgmt-resource<=12.1.0 in /anaconda/envs/azureml_py36/lib/python3.6/site-packages (from -r /anaconda/envs/azureml_py36/lib/python3.6/site-packages/azureml/automl/core/validated_linux_requirements.txt (line 10)) (12.1.0)\n",
            "Requirement already satisfied: azure-mgmt-storage<=11.2.0 in /anaconda/envs/azureml_py36/lib/python3.6/site-packages (from -r /anaconda/envs/azureml_py36/lib/python3.6/site-packages/azureml/automl/core/validated_linux_requirements.txt (line 11)) (11.2.0)\n",
            "Requirement already satisfied: azure-storage-queue<=12.1.5 in /anaconda/envs/azureml_py36/lib/python3.6/site-packages (from -r /anaconda/envs/azureml_py36/lib/python3.6/site-packages/azureml/automl/core/validated_linux_requirements.txt (line 12)) (12.1.5)\n",
            "Requirement already satisfied: azureml-automl-core~=1.26.0 in /anaconda/envs/azureml_py36/lib/python3.6/site-packages (from -r /anaconda/envs/azureml_py36/lib/python3.6/site-packages/azureml/automl/core/validated_linux_requirements.txt (line 13)) (1.26.0)\n",
            "Requirement already satisfied: azureml-automl-runtime~=1.26.0 in /anaconda/envs/azureml_py36/lib/python3.6/site-packages (from -r /anaconda/envs/azureml_py36/lib/python3.6/site-packages/azureml/automl/core/validated_linux_requirements.txt (line 14)) (1.26.0)\n",
            "Requirement already satisfied: azureml-core~=1.26.0 in /anaconda/envs/azureml_py36/lib/python3.6/site-packages (from -r /anaconda/envs/azureml_py36/lib/python3.6/site-packages/azureml/automl/core/validated_linux_requirements.txt (line 15)) (1.26.0)\n",
            "Requirement already satisfied: azureml-dataprep<=2.13.2 in /anaconda/envs/azureml_py36/lib/python3.6/site-packages (from -r /anaconda/envs/azureml_py36/lib/python3.6/site-packages/azureml/automl/core/validated_linux_requirements.txt (line 16)) (2.13.2)\n",
            "Requirement already satisfied: azureml-dataprep-native<=32.0.0 in /anaconda/envs/azureml_py36/lib/python3.6/site-packages (from -r /anaconda/envs/azureml_py36/lib/python3.6/site-packages/azureml/automl/core/validated_linux_requirements.txt (line 17)) (32.0.0)\n",
            "Requirement already satisfied: azureml-dataprep-rslex<=1.11.2 in /anaconda/envs/azureml_py36/lib/python3.6/site-packages (from -r /anaconda/envs/azureml_py36/lib/python3.6/site-packages/azureml/automl/core/validated_linux_requirements.txt (line 18)) (1.11.2)\n",
            "Requirement already satisfied: azureml-dataset-runtime~=1.26.0 in /anaconda/envs/azureml_py36/lib/python3.6/site-packages (from -r /anaconda/envs/azureml_py36/lib/python3.6/site-packages/azureml/automl/core/validated_linux_requirements.txt (line 19)) (1.26.0)\n",
            "Requirement already satisfied: azureml-defaults~=1.26.0 in /anaconda/envs/azureml_py36/lib/python3.6/site-packages (from -r /anaconda/envs/azureml_py36/lib/python3.6/site-packages/azureml/automl/core/validated_linux_requirements.txt (line 20)) (1.26.0)\n",
            "Requirement already satisfied: azureml-interpret~=1.26.0 in /anaconda/envs/azureml_py36/lib/python3.6/site-packages (from -r /anaconda/envs/azureml_py36/lib/python3.6/site-packages/azureml/automl/core/validated_linux_requirements.txt (line 21)) (1.26.0)\n",
            "Requirement already satisfied: azureml-model-management-sdk<=1.0.1b6.post1 in /anaconda/envs/azureml_py36/lib/python3.6/site-packages (from -r /anaconda/envs/azureml_py36/lib/python3.6/site-packages/azureml/automl/core/validated_linux_requirements.txt (line 22)) (1.0.1b6.post1)\n",
            "Requirement already satisfied: azureml-pipeline-core~=1.26.0 in /anaconda/envs/azureml_py36/lib/python3.6/site-packages (from -r /anaconda/envs/azureml_py36/lib/python3.6/site-packages/azureml/automl/core/validated_linux_requirements.txt (line 23)) (1.26.0)\n",
            "Requirement already satisfied: azureml-pipeline-steps~=1.26.0 in /anaconda/envs/azureml_py36/lib/python3.6/site-packages (from -r /anaconda/envs/azureml_py36/lib/python3.6/site-packages/azureml/automl/core/validated_linux_requirements.txt (line 24)) (1.26.0)\n",
            "Requirement already satisfied: azureml-telemetry~=1.26.0 in /anaconda/envs/azureml_py36/lib/python3.6/site-packages (from -r /anaconda/envs/azureml_py36/lib/python3.6/site-packages/azureml/automl/core/validated_linux_requirements.txt (line 25)) (1.26.0)\n",
            "Requirement already satisfied: azureml-train-automl~=1.26.0 in /anaconda/envs/azureml_py36/lib/python3.6/site-packages (from -r /anaconda/envs/azureml_py36/lib/python3.6/site-packages/azureml/automl/core/validated_linux_requirements.txt (line 26)) (1.26.0)\n",
            "Requirement already satisfied: azureml-train-automl-client~=1.26.0 in /anaconda/envs/azureml_py36/lib/python3.6/site-packages (from -r /anaconda/envs/azureml_py36/lib/python3.6/site-packages/azureml/automl/core/validated_linux_requirements.txt (line 27)) (1.26.0)\n",
            "Requirement already satisfied: azureml-train-automl-runtime~=1.26.0 in /anaconda/envs/azureml_py36/lib/python3.6/site-packages (from -r /anaconda/envs/azureml_py36/lib/python3.6/site-packages/azureml/automl/core/validated_linux_requirements.txt (line 28)) (1.26.0)\n",
            "Requirement already satisfied: azureml-train-core~=1.26.0 in /anaconda/envs/azureml_py36/lib/python3.6/site-packages (from -r /anaconda/envs/azureml_py36/lib/python3.6/site-packages/azureml/automl/core/validated_linux_requirements.txt (line 29)) (1.26.0)\n",
            "Requirement already satisfied: azureml-train-restclients-hyperdrive~=1.26.0 in /anaconda/envs/azureml_py36/lib/python3.6/site-packages (from -r /anaconda/envs/azureml_py36/lib/python3.6/site-packages/azureml/automl/core/validated_linux_requirements.txt (line 30)) (1.26.0)\n",
            "Requirement already satisfied: backports.tempfile<=1.0 in /anaconda/envs/azureml_py36/lib/python3.6/site-packages (from -r /anaconda/envs/azureml_py36/lib/python3.6/site-packages/azureml/automl/core/validated_linux_requirements.txt (line 31)) (1.0)\n",
            "Requirement already satisfied: backports.weakref<=1.0.post1 in /anaconda/envs/azureml_py36/lib/python3.6/site-packages (from -r /anaconda/envs/azureml_py36/lib/python3.6/site-packages/azureml/automl/core/validated_linux_requirements.txt (line 32)) (1.0.post1)\n",
            "Requirement already satisfied: boto<=2.49.0 in /anaconda/envs/azureml_py36/lib/python3.6/site-packages (from -r /anaconda/envs/azureml_py36/lib/python3.6/site-packages/azureml/automl/core/validated_linux_requirements.txt (line 33)) (2.49.0)\n",
            "Requirement already satisfied: boto3<=1.15.18 in /anaconda/envs/azureml_py36/lib/python3.6/site-packages (from -r /anaconda/envs/azureml_py36/lib/python3.6/site-packages/azureml/automl/core/validated_linux_requirements.txt (line 34)) (1.15.18)\n",
            "Requirement already satisfied: botocore<=1.18.18 in /anaconda/envs/azureml_py36/lib/python3.6/site-packages (from -r /anaconda/envs/azureml_py36/lib/python3.6/site-packages/azureml/automl/core/validated_linux_requirements.txt (line 35)) (1.18.18)\n",
            "Requirement already satisfied: certifi<=2020.12.5 in /anaconda/envs/azureml_py36/lib/python3.6/site-packages (from -r /anaconda/envs/azureml_py36/lib/python3.6/site-packages/azureml/automl/core/validated_linux_requirements.txt (line 36)) (2020.12.5)\n",
            "Requirement already satisfied: cffi<=1.14.5 in /anaconda/envs/azureml_py36/lib/python3.6/site-packages (from -r /anaconda/envs/azureml_py36/lib/python3.6/site-packages/azureml/automl/core/validated_linux_requirements.txt (line 37)) (1.14.5)\n",
            "Requirement already satisfied: chardet<=4.0.0 in /anaconda/envs/azureml_py36/lib/python3.6/site-packages (from -r /anaconda/envs/azureml_py36/lib/python3.6/site-packages/azureml/automl/core/validated_linux_requirements.txt (line 38)) (4.0.0)\n",
            "Requirement already satisfied: click<=7.1.2 in /anaconda/envs/azureml_py36/lib/python3.6/site-packages (from -r /anaconda/envs/azureml_py36/lib/python3.6/site-packages/azureml/automl/core/validated_linux_requirements.txt (line 39)) (7.1.2)\n",
            "Requirement already satisfied: cloudpickle<=1.6.0 in /anaconda/envs/azureml_py36/lib/python3.6/site-packages (from -r /anaconda/envs/azureml_py36/lib/python3.6/site-packages/azureml/automl/core/validated_linux_requirements.txt (line 40)) (1.6.0)\n",
            "Requirement already satisfied: configparser<=3.7.4 in /anaconda/envs/azureml_py36/lib/python3.6/site-packages (from -r /anaconda/envs/azureml_py36/lib/python3.6/site-packages/azureml/automl/core/validated_linux_requirements.txt (line 41)) (3.7.4)\n",
            "Requirement already satisfied: contextlib2<=0.6.0.post1 in /anaconda/envs/azureml_py36/lib/python3.6/site-packages (from -r /anaconda/envs/azureml_py36/lib/python3.6/site-packages/azureml/automl/core/validated_linux_requirements.txt (line 42)) (0.6.0.post1)\n",
            "Requirement already satisfied: cryptography<=3.4.7 in /anaconda/envs/azureml_py36/lib/python3.6/site-packages (from -r /anaconda/envs/azureml_py36/lib/python3.6/site-packages/azureml/automl/core/validated_linux_requirements.txt (line 43)) (3.4.7)\n",
            "Requirement already satisfied: Cython<=0.29.22 in /anaconda/envs/azureml_py36/lib/python3.6/site-packages (from -r /anaconda/envs/azureml_py36/lib/python3.6/site-packages/azureml/automl/core/validated_linux_requirements.txt (line 44)) (0.29.22)\n",
            "Requirement already satisfied: dill<=0.3.3 in /anaconda/envs/azureml_py36/lib/python3.6/site-packages (from -r /anaconda/envs/azureml_py36/lib/python3.6/site-packages/azureml/automl/core/validated_linux_requirements.txt (line 45)) (0.3.3)\n",
            "Requirement already satisfied: distro<=1.5.0 in /anaconda/envs/azureml_py36/lib/python3.6/site-packages (from -r /anaconda/envs/azureml_py36/lib/python3.6/site-packages/azureml/automl/core/validated_linux_requirements.txt (line 46)) (1.5.0)\n",
            "Requirement already satisfied: docker<=4.4.4 in /anaconda/envs/azureml_py36/lib/python3.6/site-packages (from -r /anaconda/envs/azureml_py36/lib/python3.6/site-packages/azureml/automl/core/validated_linux_requirements.txt (line 47)) (4.4.4)\n",
            "Requirement already satisfied: dotnetcore2<=2.1.20 in /anaconda/envs/azureml_py36/lib/python3.6/site-packages (from -r /anaconda/envs/azureml_py36/lib/python3.6/site-packages/azureml/automl/core/validated_linux_requirements.txt (line 48)) (2.1.20)\n",
            "Requirement already satisfied: fire<=0.4.0 in /anaconda/envs/azureml_py36/lib/python3.6/site-packages (from -r /anaconda/envs/azureml_py36/lib/python3.6/site-packages/azureml/automl/core/validated_linux_requirements.txt (line 49)) (0.4.0)\n",
            "Requirement already satisfied: Flask<=1.0.3 in /anaconda/envs/azureml_py36/lib/python3.6/site-packages (from -r /anaconda/envs/azureml_py36/lib/python3.6/site-packages/azureml/automl/core/validated_linux_requirements.txt (line 50)) (1.0.3)\n",
            "Requirement already satisfied: fusepy<=3.0.1 in /anaconda/envs/azureml_py36/lib/python3.6/site-packages (from -r /anaconda/envs/azureml_py36/lib/python3.6/site-packages/azureml/automl/core/validated_linux_requirements.txt (line 51)) (3.0.1)\n",
            "Requirement already satisfied: gensim<=3.8.3 in /anaconda/envs/azureml_py36/lib/python3.6/site-packages (from -r /anaconda/envs/azureml_py36/lib/python3.6/site-packages/azureml/automl/core/validated_linux_requirements.txt (line 52)) (3.8.3)\n",
            "Requirement already satisfied: gunicorn<=19.9.0 in /anaconda/envs/azureml_py36/lib/python3.6/site-packages (from -r /anaconda/envs/azureml_py36/lib/python3.6/site-packages/azureml/automl/core/validated_linux_requirements.txt (line 53)) (19.9.0)\n",
            "Requirement already satisfied: idna<=2.10 in /anaconda/envs/azureml_py36/lib/python3.6/site-packages (from -r /anaconda/envs/azureml_py36/lib/python3.6/site-packages/azureml/automl/core/validated_linux_requirements.txt (line 54)) (2.10)\n",
            "Requirement already satisfied: importlib-metadata<=3.10.0 in /anaconda/envs/azureml_py36/lib/python3.6/site-packages (from -r /anaconda/envs/azureml_py36/lib/python3.6/site-packages/azureml/automl/core/validated_linux_requirements.txt (line 55)) (3.10.0)\n",
            "Requirement already satisfied: interpret-community<=0.17.2 in /anaconda/envs/azureml_py36/lib/python3.6/site-packages (from -r /anaconda/envs/azureml_py36/lib/python3.6/site-packages/azureml/automl/core/validated_linux_requirements.txt (line 56)) (0.17.2)\n",
            "Requirement already satisfied: interpret-core<=0.2.1 in /anaconda/envs/azureml_py36/lib/python3.6/site-packages (from -r /anaconda/envs/azureml_py36/lib/python3.6/site-packages/azureml/automl/core/validated_linux_requirements.txt (line 57)) (0.2.1)\n",
            "Requirement already satisfied: isodate<=0.6.0 in /anaconda/envs/azureml_py36/lib/python3.6/site-packages (from -r /anaconda/envs/azureml_py36/lib/python3.6/site-packages/azureml/automl/core/validated_linux_requirements.txt (line 58)) (0.6.0)\n",
            "Requirement already satisfied: itsdangerous<=1.1.0 in /anaconda/envs/azureml_py36/lib/python3.6/site-packages (from -r /anaconda/envs/azureml_py36/lib/python3.6/site-packages/azureml/automl/core/validated_linux_requirements.txt (line 59)) (1.1.0)\n",
            "Requirement already satisfied: jeepney<=0.6.0 in /anaconda/envs/azureml_py36/lib/python3.6/site-packages (from -r /anaconda/envs/azureml_py36/lib/python3.6/site-packages/azureml/automl/core/validated_linux_requirements.txt (line 60)) (0.6.0)\n",
            "Requirement already satisfied: Jinja2<=2.11.2 in /anaconda/envs/azureml_py36/lib/python3.6/site-packages (from -r /anaconda/envs/azureml_py36/lib/python3.6/site-packages/azureml/automl/core/validated_linux_requirements.txt (line 61)) (2.11.1)\n",
            "Requirement already satisfied: jmespath<=0.10.0 in /anaconda/envs/azureml_py36/lib/python3.6/site-packages (from -r /anaconda/envs/azureml_py36/lib/python3.6/site-packages/azureml/automl/core/validated_linux_requirements.txt (line 62)) (0.10.0)\n",
            "Requirement already satisfied: joblib<=0.14.1 in /anaconda/envs/azureml_py36/lib/python3.6/site-packages (from -r /anaconda/envs/azureml_py36/lib/python3.6/site-packages/azureml/automl/core/validated_linux_requirements.txt (line 63)) (0.14.1)\n",
            "Requirement already satisfied: json-logging-py<=0.2 in /anaconda/envs/azureml_py36/lib/python3.6/site-packages (from -r /anaconda/envs/azureml_py36/lib/python3.6/site-packages/azureml/automl/core/validated_linux_requirements.txt (line 64)) (0.2)\n",
            "Requirement already satisfied: jsonpickle<=2.0.0 in /anaconda/envs/azureml_py36/lib/python3.6/site-packages (from -r /anaconda/envs/azureml_py36/lib/python3.6/site-packages/azureml/automl/core/validated_linux_requirements.txt (line 65)) (2.0.0)\n",
            "Requirement already satisfied: keras2onnx<=1.6.0 in /anaconda/envs/azureml_py36/lib/python3.6/site-packages (from -r /anaconda/envs/azureml_py36/lib/python3.6/site-packages/azureml/automl/core/validated_linux_requirements.txt (line 66)) (1.6.0)\n",
            "Requirement already satisfied: liac-arff<=2.5.0 in /anaconda/envs/azureml_py36/lib/python3.6/site-packages (from -r /anaconda/envs/azureml_py36/lib/python3.6/site-packages/azureml/automl/core/validated_linux_requirements.txt (line 67)) (2.5.0)\n",
            "Requirement already satisfied: lightgbm<=2.3.0 in /anaconda/envs/azureml_py36/lib/python3.6/site-packages (from -r /anaconda/envs/azureml_py36/lib/python3.6/site-packages/azureml/automl/core/validated_linux_requirements.txt (line 68)) (2.3.0)\n",
            "Requirement already satisfied: MarkupSafe<=1.1.1 in /anaconda/envs/azureml_py36/lib/python3.6/site-packages (from -r /anaconda/envs/azureml_py36/lib/python3.6/site-packages/azureml/automl/core/validated_linux_requirements.txt (line 69)) (1.1.1)\n",
            "Requirement already satisfied: msal<=1.10.0 in /anaconda/envs/azureml_py36/lib/python3.6/site-packages (from -r /anaconda/envs/azureml_py36/lib/python3.6/site-packages/azureml/automl/core/validated_linux_requirements.txt (line 70)) (1.10.0)\n",
            "Requirement already satisfied: msal-extensions<=0.2.2 in /anaconda/envs/azureml_py36/lib/python3.6/site-packages (from -r /anaconda/envs/azureml_py36/lib/python3.6/site-packages/azureml/automl/core/validated_linux_requirements.txt (line 71)) (0.2.2)\n",
            "Requirement already satisfied: msrest<=0.6.21 in /anaconda/envs/azureml_py36/lib/python3.6/site-packages (from -r /anaconda/envs/azureml_py36/lib/python3.6/site-packages/azureml/automl/core/validated_linux_requirements.txt (line 72)) (0.6.21)\n",
            "Requirement already satisfied: msrestazure<=0.6.4 in /anaconda/envs/azureml_py36/lib/python3.6/site-packages (from -r /anaconda/envs/azureml_py36/lib/python3.6/site-packages/azureml/automl/core/validated_linux_requirements.txt (line 73)) (0.6.4)\n",
            "Requirement already satisfied: ndg-httpsclient<=0.5.1 in /anaconda/envs/azureml_py36/lib/python3.6/site-packages (from -r /anaconda/envs/azureml_py36/lib/python3.6/site-packages/azureml/automl/core/validated_linux_requirements.txt (line 74)) (0.5.1)\n",
            "Requirement already satisfied: nimbusml<=1.8.0 in /anaconda/envs/azureml_py36/lib/python3.6/site-packages (from -r /anaconda/envs/azureml_py36/lib/python3.6/site-packages/azureml/automl/core/validated_linux_requirements.txt (line 75)) (1.8.0)\n",
            "Requirement already satisfied: numpy<=1.18.5 in /anaconda/envs/azureml_py36/lib/python3.6/site-packages (from -r /anaconda/envs/azureml_py36/lib/python3.6/site-packages/azureml/automl/core/validated_linux_requirements.txt (line 76)) (1.18.5)\n",
            "Requirement already satisfied: oauthlib<=3.1.0 in /anaconda/envs/azureml_py36/lib/python3.6/site-packages (from -r /anaconda/envs/azureml_py36/lib/python3.6/site-packages/azureml/automl/core/validated_linux_requirements.txt (line 77)) (3.1.0)\n",
            "Requirement already satisfied: onnx<=1.7.0 in /anaconda/envs/azureml_py36/lib/python3.6/site-packages (from -r /anaconda/envs/azureml_py36/lib/python3.6/site-packages/azureml/automl/core/validated_linux_requirements.txt (line 78)) (1.7.0)\n",
            "Requirement already satisfied: onnxconverter-common<=1.6.0 in /anaconda/envs/azureml_py36/lib/python3.6/site-packages (from -r /anaconda/envs/azureml_py36/lib/python3.6/site-packages/azureml/automl/core/validated_linux_requirements.txt (line 79)) (1.6.0)\n",
            "Requirement already satisfied: onnxmltools<=1.4.1 in /anaconda/envs/azureml_py36/lib/python3.6/site-packages (from -r /anaconda/envs/azureml_py36/lib/python3.6/site-packages/azureml/automl/core/validated_linux_requirements.txt (line 80)) (1.4.1)\n",
            "Requirement already satisfied: onnxruntime<=1.6.0 in /anaconda/envs/azureml_py36/lib/python3.6/site-packages (from -r /anaconda/envs/azureml_py36/lib/python3.6/site-packages/azureml/automl/core/validated_linux_requirements.txt (line 81)) (1.6.0)\n",
            "Requirement already satisfied: packaging<=20.9 in /anaconda/envs/azureml_py36/lib/python3.6/site-packages (from -r /anaconda/envs/azureml_py36/lib/python3.6/site-packages/azureml/automl/core/validated_linux_requirements.txt (line 82)) (20.9)\n",
            "Requirement already satisfied: pandas<=0.25.3 in /anaconda/envs/azureml_py36/lib/python3.6/site-packages (from -r /anaconda/envs/azureml_py36/lib/python3.6/site-packages/azureml/automl/core/validated_linux_requirements.txt (line 83)) (0.25.3)\n",
            "Requirement already satisfied: pathspec<=0.8.1 in /anaconda/envs/azureml_py36/lib/python3.6/site-packages (from -r /anaconda/envs/azureml_py36/lib/python3.6/site-packages/azureml/automl/core/validated_linux_requirements.txt (line 84)) (0.8.1)\n",
            "Requirement already satisfied: patsy<=0.5.1 in /anaconda/envs/azureml_py36/lib/python3.6/site-packages (from -r /anaconda/envs/azureml_py36/lib/python3.6/site-packages/azureml/automl/core/validated_linux_requirements.txt (line 85)) (0.5.1)\n",
            "Requirement already satisfied: pmdarima<=1.1.1 in /anaconda/envs/azureml_py36/lib/python3.6/site-packages (from -r /anaconda/envs/azureml_py36/lib/python3.6/site-packages/azureml/automl/core/validated_linux_requirements.txt (line 86)) (1.1.1)\n",
            "Requirement already satisfied: portalocker<=1.7.1 in /anaconda/envs/azureml_py36/lib/python3.6/site-packages (from -r /anaconda/envs/azureml_py36/lib/python3.6/site-packages/azureml/automl/core/validated_linux_requirements.txt (line 87)) (1.7.1)\n",
            "Requirement already satisfied: protobuf<=3.15.7 in /anaconda/envs/azureml_py36/lib/python3.6/site-packages (from -r /anaconda/envs/azureml_py36/lib/python3.6/site-packages/azureml/automl/core/validated_linux_requirements.txt (line 88)) (3.15.7)\n",
            "Requirement already satisfied: psutil<=5.8.0 in /anaconda/envs/azureml_py36/lib/python3.6/site-packages (from -r /anaconda/envs/azureml_py36/lib/python3.6/site-packages/azureml/automl/core/validated_linux_requirements.txt (line 89)) (5.8.0)\n",
            "Requirement already satisfied: py-cpuinfo<=5.0.0 in /anaconda/envs/azureml_py36/lib/python3.6/site-packages (from -r /anaconda/envs/azureml_py36/lib/python3.6/site-packages/azureml/automl/core/validated_linux_requirements.txt (line 90)) (5.0.0)\n",
            "Requirement already satisfied: pyarrow<=1.0.1 in /anaconda/envs/azureml_py36/lib/python3.6/site-packages (from -r /anaconda/envs/azureml_py36/lib/python3.6/site-packages/azureml/automl/core/validated_linux_requirements.txt (line 91)) (1.0.1)\n",
            "Requirement already satisfied: pyasn1<=0.4.8 in /anaconda/envs/azureml_py36/lib/python3.6/site-packages (from -r /anaconda/envs/azureml_py36/lib/python3.6/site-packages/azureml/automl/core/validated_linux_requirements.txt (line 92)) (0.4.8)\n",
            "Requirement already satisfied: pycparser<=2.20 in /anaconda/envs/azureml_py36/lib/python3.6/site-packages (from -r /anaconda/envs/azureml_py36/lib/python3.6/site-packages/azureml/automl/core/validated_linux_requirements.txt (line 93)) (2.20)\n",
            "Requirement already satisfied: PyJWT<=2.0.1 in /anaconda/envs/azureml_py36/lib/python3.6/site-packages (from -r /anaconda/envs/azureml_py36/lib/python3.6/site-packages/azureml/automl/core/validated_linux_requirements.txt (line 94)) (2.0.1)\n",
            "Requirement already satisfied: pyOpenSSL<=20.0.1 in /anaconda/envs/azureml_py36/lib/python3.6/site-packages (from -r /anaconda/envs/azureml_py36/lib/python3.6/site-packages/azureml/automl/core/validated_linux_requirements.txt (line 95)) (20.0.1)\n",
            "Requirement already satisfied: pyparsing<=2.4.7 in /anaconda/envs/azureml_py36/lib/python3.6/site-packages (from -r /anaconda/envs/azureml_py36/lib/python3.6/site-packages/azureml/automl/core/validated_linux_requirements.txt (line 96)) (2.4.7)\n",
            "Requirement already satisfied: python-dateutil<=2.8.1 in /anaconda/envs/azureml_py36/lib/python3.6/site-packages (from -r /anaconda/envs/azureml_py36/lib/python3.6/site-packages/azureml/automl/core/validated_linux_requirements.txt (line 97)) (2.8.1)\n",
            "Requirement already satisfied: pytz<=2021.1 in /anaconda/envs/azureml_py36/lib/python3.6/site-packages (from -r /anaconda/envs/azureml_py36/lib/python3.6/site-packages/azureml/automl/core/validated_linux_requirements.txt (line 98)) (2021.1)\n",
            "Requirement already satisfied: requests<=2.25.1 in /anaconda/envs/azureml_py36/lib/python3.6/site-packages (from -r /anaconda/envs/azureml_py36/lib/python3.6/site-packages/azureml/automl/core/validated_linux_requirements.txt (line 99)) (2.25.1)\n",
            "Requirement already satisfied: requests-oauthlib<=1.3.0 in /anaconda/envs/azureml_py36/lib/python3.6/site-packages (from -r /anaconda/envs/azureml_py36/lib/python3.6/site-packages/azureml/automl/core/validated_linux_requirements.txt (line 100)) (1.3.0)\n",
            "Requirement already satisfied: ruamel.yaml<=0.17.2 in /anaconda/envs/azureml_py36/lib/python3.6/site-packages (from -r /anaconda/envs/azureml_py36/lib/python3.6/site-packages/azureml/automl/core/validated_linux_requirements.txt (line 101)) (0.17.2)\n",
            "Requirement already satisfied: ruamel.yaml.clib<=0.2.2 in /anaconda/envs/azureml_py36/lib/python3.6/site-packages (from -r /anaconda/envs/azureml_py36/lib/python3.6/site-packages/azureml/automl/core/validated_linux_requirements.txt (line 102)) (0.2.2)\n",
            "Requirement already satisfied: s3transfer<=0.3.6 in /anaconda/envs/azureml_py36/lib/python3.6/site-packages (from -r /anaconda/envs/azureml_py36/lib/python3.6/site-packages/azureml/automl/core/validated_linux_requirements.txt (line 103)) (0.3.6)\n",
            "Requirement already satisfied: scikit-learn<=0.22.2.post1 in /anaconda/envs/azureml_py36/lib/python3.6/site-packages (from -r /anaconda/envs/azureml_py36/lib/python3.6/site-packages/azureml/automl/core/validated_linux_requirements.txt (line 104)) (0.22.2.post1)\n",
            "Requirement already satisfied: scipy<=1.5.2 in /anaconda/envs/azureml_py36/lib/python3.6/site-packages (from -r /anaconda/envs/azureml_py36/lib/python3.6/site-packages/azureml/automl/core/validated_linux_requirements.txt (line 105)) (1.4.1)\n",
            "Requirement already satisfied: SecretStorage<=3.3.1 in /anaconda/envs/azureml_py36/lib/python3.6/site-packages (from -r /anaconda/envs/azureml_py36/lib/python3.6/site-packages/azureml/automl/core/validated_linux_requirements.txt (line 106)) (3.3.1)\n",
            "Requirement already satisfied: shap<=0.34.0 in /anaconda/envs/azureml_py36/lib/python3.6/site-packages (from -r /anaconda/envs/azureml_py36/lib/python3.6/site-packages/azureml/automl/core/validated_linux_requirements.txt (line 107)) (0.34.0)\n",
            "Requirement already satisfied: six<=1.15.0 in /anaconda/envs/azureml_py36/lib/python3.6/site-packages (from -r /anaconda/envs/azureml_py36/lib/python3.6/site-packages/azureml/automl/core/validated_linux_requirements.txt (line 108)) (1.15.0)\n",
            "Requirement already satisfied: skl2onnx<=1.4.9 in /anaconda/envs/azureml_py36/lib/python3.6/site-packages (from -r /anaconda/envs/azureml_py36/lib/python3.6/site-packages/azureml/automl/core/validated_linux_requirements.txt (line 109)) (1.4.9)\n",
            "Requirement already satisfied: sklearn-pandas<=1.7.0 in /anaconda/envs/azureml_py36/lib/python3.6/site-packages (from -r /anaconda/envs/azureml_py36/lib/python3.6/site-packages/azureml/automl/core/validated_linux_requirements.txt (line 110)) (1.7.0)\n",
            "Requirement already satisfied: smart-open<=1.9.0 in /anaconda/envs/azureml_py36/lib/python3.6/site-packages (from -r /anaconda/envs/azureml_py36/lib/python3.6/site-packages/azureml/automl/core/validated_linux_requirements.txt (line 111)) (1.9.0)\n",
            "Requirement already satisfied: statsmodels<=0.10.2 in /anaconda/envs/azureml_py36/lib/python3.6/site-packages (from -r /anaconda/envs/azureml_py36/lib/python3.6/site-packages/azureml/automl/core/validated_linux_requirements.txt (line 112)) (0.10.2)\n",
            "Requirement already satisfied: termcolor<=1.1.0 in /anaconda/envs/azureml_py36/lib/python3.6/site-packages (from -r /anaconda/envs/azureml_py36/lib/python3.6/site-packages/azureml/automl/core/validated_linux_requirements.txt (line 113)) (1.1.0)\n",
            "Requirement already satisfied: tqdm<=4.59.0 in /anaconda/envs/azureml_py36/lib/python3.6/site-packages (from -r /anaconda/envs/azureml_py36/lib/python3.6/site-packages/azureml/automl/core/validated_linux_requirements.txt (line 114)) (4.59.0)\n",
            "Requirement already satisfied: typing-extensions<=3.7.4.3 in /anaconda/envs/azureml_py36/lib/python3.6/site-packages (from -r /anaconda/envs/azureml_py36/lib/python3.6/site-packages/azureml/automl/core/validated_linux_requirements.txt (line 115)) (3.7.4.3)\n",
            "Requirement already satisfied: urllib3<=1.25.11 in /anaconda/envs/azureml_py36/lib/python3.6/site-packages (from -r /anaconda/envs/azureml_py36/lib/python3.6/site-packages/azureml/automl/core/validated_linux_requirements.txt (line 116)) (1.25.11)\n",
            "Requirement already satisfied: websocket-client<=0.58.0 in /anaconda/envs/azureml_py36/lib/python3.6/site-packages (from -r /anaconda/envs/azureml_py36/lib/python3.6/site-packages/azureml/automl/core/validated_linux_requirements.txt (line 117)) (0.58.0)\n",
            "Requirement already satisfied: Werkzeug<=1.0.1 in /anaconda/envs/azureml_py36/lib/python3.6/site-packages (from -r /anaconda/envs/azureml_py36/lib/python3.6/site-packages/azureml/automl/core/validated_linux_requirements.txt (line 118)) (1.0.1)\n",
            "Requirement already satisfied: zipp<=3.4.1 in /anaconda/envs/azureml_py36/lib/python3.6/site-packages (from -r /anaconda/envs/azureml_py36/lib/python3.6/site-packages/azureml/automl/core/validated_linux_requirements.txt (line 119)) (3.4.1)\n"
          ]
        }
      ],
      "execution_count": 1,
      "metadata": {
        "collapsed": true,
        "jupyter": {
          "source_hidden": false,
          "outputs_hidden": false
        },
        "nteract": {
          "transient": {
            "deleting": false
          }
        }
      }
    },
    {
      "cell_type": "code",
      "source": [
        "import azureml.core\n",
        "from azureml.core import Workspace\n",
        "\n",
        "# Load the workspace from the saved config file\n",
        "ws = Workspace.from_config()\n",
        "print('Ready to use Azure ML {} to work with {}'.format(azureml.core.VERSION, ws.name))\n"
      ],
      "outputs": [
        {
          "output_type": "stream",
          "name": "stdout",
          "text": [
            "Ready to use Azure ML 1.26.0 to work with 429test\n"
          ]
        }
      ],
      "execution_count": 2,
      "metadata": {
        "gather": {
          "logged": 1620205876475
        }
      }
    },
    {
      "cell_type": "code",
      "source": [
        "from azureml.core import Experiment\n",
        "from azureml.core import Dataset\n",
        "import pandas as pd\n",
        "import numpy as np\n",
        "import matplotlib.pyplot as plt\n",
        "import seaborn as sns\n",
        "%matplotlib inline\n",
        "import joblib\n",
        "import os\n",
        "from azureml.core.compute import ComputeTarget, AmlCompute\n",
        "from azureml.core.compute_target import ComputeTargetException\n",
        "\n",
        "ws.get_default_datastore()\n",
        "dataset = Dataset.get_by_name(ws, name='zombies')\n",
        "zombies_train, zombies_test = dataset.random_split(percentage=0.7, seed=123) \n",
        "# zombies = dataset.to_pandas_dataframe()"
      ],
      "outputs": [],
      "execution_count": 3,
      "metadata": {
        "collapsed": true,
        "jupyter": {
          "source_hidden": false,
          "outputs_hidden": false
        },
        "nteract": {
          "transient": {
            "deleting": false
          }
        },
        "gather": {
          "logged": 1620205881175
        }
      }
    },
    {
      "cell_type": "code",
      "source": [
        "import azureml.train.automl.utilities as automl_utils\n",
        "\n",
        "for metric in automl_utils.get_primary_metrics('regression'):\n",
        "    print(metric)"
      ],
      "outputs": [
        {
          "output_type": "stream",
          "name": "stdout",
          "text": [
            "normalized_mean_absolute_error\n",
            "spearman_correlation\n",
            "r2_score\n",
            "normalized_root_mean_squared_error\n"
          ]
        }
      ],
      "execution_count": 4,
      "metadata": {
        "collapsed": true,
        "jupyter": {
          "source_hidden": false,
          "outputs_hidden": false
        },
        "nteract": {
          "transient": {
            "deleting": false
          }
        },
        "gather": {
          "logged": 1620205881269
        }
      }
    },
    {
      "cell_type": "code",
      "source": [
        "import logging\n",
        "\n",
        "automl_settings = {\n",
        "    \"iteration_timeout_minutes\": 10,\n",
        "    \"experiment_timeout_hours\": 0.3,\n",
        "    \"enable_early_stopping\": True,\n",
        "    \"primary_metric\": 'r2_score',\n",
        "    \"featurization\": 'auto',\n",
        "    \"verbosity\": logging.INFO,\n",
        "    \"n_cross_validations\": 5\n",
        "}"
      ],
      "outputs": [],
      "execution_count": 5,
      "metadata": {
        "collapsed": true,
        "jupyter": {
          "source_hidden": false,
          "outputs_hidden": false
        },
        "nteract": {
          "transient": {
            "deleting": false
          }
        },
        "gather": {
          "logged": 1620205881318
        }
      }
    },
    {
      "cell_type": "code",
      "source": [
        "from azureml.train.automl import AutoMLConfig\n",
        "\n",
        "automl_config = AutoMLConfig(task='regression',\n",
        "\n",
        "                             debug_log='automated_ml_errors.log',\n",
        "                             training_data=zombies_train,\n",
        "                             label_column_name=\"Bounty\",\n",
        "                             **automl_settings)\n",
        "\n",
        "print(\"Ready for Auto ML run.\")"
      ],
      "outputs": [
        {
          "output_type": "stream",
          "name": "stdout",
          "text": [
            "Ready for Auto ML run.\n"
          ]
        }
      ],
      "execution_count": 6,
      "metadata": {
        "collapsed": true,
        "jupyter": {
          "source_hidden": false,
          "outputs_hidden": false
        },
        "nteract": {
          "transient": {
            "deleting": false
          }
        },
        "gather": {
          "logged": 1620205881409
        }
      }
    },
    {
      "cell_type": "code",
      "source": [
        "from azureml.core.experiment import Experiment\n",
        "experiment = Experiment(ws, \"zombie_aml\")\n",
        "local_run = experiment.submit(automl_config, show_output=True)"
      ],
      "outputs": [
        {
          "output_type": "stream",
          "name": "stdout",
          "text": [
            "No run_configuration provided, running on local with default configuration\n",
            "Running in the active local environment.\n"
          ]
        },
        {
          "output_type": "display_data",
          "data": {
            "text/plain": "<IPython.core.display.HTML object>",
            "text/html": "<table style=\"width:100%\"><tr><th>Experiment</th><th>Id</th><th>Type</th><th>Status</th><th>Details Page</th><th>Docs Page</th></tr><tr><td>zombie_aml</td><td>AutoML_2d992e21-4918-4af7-bb78-1c0fe866c125</td><td>automl</td><td>Preparing</td><td><a href=\"https://ml.azure.com/runs/AutoML_2d992e21-4918-4af7-bb78-1c0fe866c125?wsid=/subscriptions/6a38893c-55b6-4eeb-bfd2-b4ccbbb9ec25/resourcegroups/ey/workspaces/429test&amp;tid=06a20805-7848-4334-bbcb-153ba3c3a683\" target=\"_blank\" rel=\"noopener\">Link to Azure Machine Learning studio</a></td><td><a href=\"https://docs.microsoft.com/en-us/python/api/overview/azure/ml/intro?view=azure-ml-py\" target=\"_blank\" rel=\"noopener\">Link to Documentation</a></td></tr></table>"
          },
          "metadata": {}
        },
        {
          "output_type": "stream",
          "name": "stdout",
          "text": [
            "Current status: DatasetEvaluation. Gathering dataset statistics.\n",
            "Current status: FeaturesGeneration. Generating features for the dataset.\n",
            "Current status: DatasetFeaturization. Beginning to fit featurizers and featurize the dataset.\n",
            "Current status: DatasetFeaturizationCompleted. Completed fit featurizers and featurizing the dataset.\n",
            "Current status: DatasetCrossValidationSplit. Generating individually featurized CV splits.\n",
            "\n",
            "****************************************************************************************************\n",
            "DATA GUARDRAILS: \n",
            "\n",
            "TYPE:         Missing feature values imputation\n",
            "STATUS:       PASSED\n",
            "DESCRIPTION:  No feature missing values were detected in the training data.\n",
            "              Learn more about missing value imputation: https://aka.ms/AutomatedMLFeaturization\n",
            "\n",
            "****************************************************************************************************\n",
            "\n",
            "TYPE:         High cardinality feature detection\n",
            "STATUS:       PASSED\n",
            "DESCRIPTION:  Your inputs were analyzed, and no high cardinality features were detected.\n",
            "              Learn more about high cardinality feature handling: https://aka.ms/AutomatedMLFeaturization\n",
            "\n",
            "****************************************************************************************************\n",
            "Current status: ModelSelection. Beginning model selection.\n",
            "\n",
            "****************************************************************************************************\n",
            "ITERATION: The iteration being evaluated.\n",
            "PIPELINE: A summary description of the pipeline being evaluated.\n",
            "DURATION: Time taken for the current iteration.\n",
            "METRIC: The result of computing score on the fitted pipeline.\n",
            "BEST: The best observed score thus far.\n",
            "****************************************************************************************************\n",
            "\n",
            " ITERATION   PIPELINE                                       DURATION      METRIC      BEST\n",
            "         0   MaxAbsScaler LightGBM                          0:00:24       0.6418    0.6418\n",
            "         1   MaxAbsScaler XGBoostRegressor                  0:00:25       0.6732    0.6732\n",
            "         2   SparseNormalizer XGBoostRegressor              0:00:25       0.6082    0.6732\n",
            "         3   MaxAbsScaler RandomForest                      0:00:32       0.6797    0.6797\n",
            "         4   StandardScalerWrapper XGBoostRegressor         0:00:25       0.6236    0.6797\n",
            "         5   MaxAbsScaler ElasticNet                        0:00:22       0.6512    0.6797\n",
            "         6   MaxAbsScaler RandomForest                      0:00:31       0.6785    0.6797\n",
            "         7   StandardScalerWrapper XGBoostRegressor         0:00:24       0.6476    0.6797\n",
            "         8   MaxAbsScaler ExtremeRandomTrees                0:00:25       0.6636    0.6797\n",
            "         9   StandardScalerWrapper ElasticNet               0:00:22       0.6519    0.6797\n",
            "        10   MaxAbsScaler RandomForest                      0:00:35       0.6592    0.6797\n",
            "        11   MaxAbsScaler RandomForest                      0:00:23       0.6388    0.6797\n",
            "        12   StandardScalerWrapper XGBoostRegressor         0:00:23       0.6726    0.6797\n",
            "        13   MaxAbsScaler ExtremeRandomTrees                0:00:23       0.5775    0.6797\n",
            "        14   MaxAbsScaler ExtremeRandomTrees                0:00:22       0.6471    0.6797\n",
            "        15   MaxAbsScaler ExtremeRandomTrees                0:00:24       0.6700    0.6797\n",
            "        16   MaxAbsScaler ElasticNet                        0:00:22       0.6514    0.6797\n",
            "        17   MaxAbsScaler RandomForest                      0:00:22       0.5990    0.6797\n",
            "        18   MaxAbsScaler RandomForest                      0:00:22       0.6791    0.6797\n",
            "        19   SparseNormalizer XGBoostRegressor              0:00:25       0.5243    0.6797\n",
            "        20   StandardScalerWrapper RandomForest             0:00:26       0.5956    0.6797\n",
            "        21   MaxAbsScaler ElasticNet                        0:00:24       0.6513    0.6797\n",
            "        22   StandardScalerWrapper XGBoostRegressor         0:00:22       0.6564    0.6797\n",
            "        23   MaxAbsScaler SGD                               0:00:22       0.6433    0.6797\n",
            "        24   MaxAbsScaler SGD                               0:00:23       0.6219    0.6797\n",
            "        25   SparseNormalizer RandomForest                  0:00:24       0.4910    0.6797\n",
            "        26   MaxAbsScaler RandomForest                      0:00:25       0.5802    0.6797\n",
            "        27   MaxAbsScaler ExtremeRandomTrees                0:00:30       0.5437    0.6797\n",
            "        28   StandardScalerWrapper LightGBM                 0:00:22       0.6613    0.6797\n",
            "        29   MaxAbsScaler GradientBoosting                  0:00:26       0.6788    0.6797\n",
            "        30   VotingEnsemble                                 0:00:37       0.7063    0.7063\n",
            "        31   "
          ]
        }
      ],
      "execution_count": 7,
      "metadata": {
        "collapsed": true,
        "jupyter": {
          "source_hidden": false,
          "outputs_hidden": false
        },
        "nteract": {
          "transient": {
            "deleting": false
          }
        },
        "gather": {
          "logged": 1619927759757
        }
      }
    },
    {
      "cell_type": "code",
      "source": [],
      "outputs": [],
      "execution_count": null,
      "metadata": {
        "collapsed": true,
        "jupyter": {
          "source_hidden": false,
          "outputs_hidden": false
        },
        "nteract": {
          "transient": {
            "deleting": false
          }
        }
      }
    }
  ],
  "metadata": {
    "kernelspec": {
      "name": "python3-azureml",
      "language": "python",
      "display_name": "Python 3.6 - AzureML"
    },
    "language_info": {
      "name": "python",
      "version": "3.6.9",
      "mimetype": "text/x-python",
      "codemirror_mode": {
        "name": "ipython",
        "version": 3
      },
      "pygments_lexer": "ipython3",
      "nbconvert_exporter": "python",
      "file_extension": ".py"
    },
    "kernel_info": {
      "name": "python3-azureml"
    },
    "microsoft": {
      "host": {
        "AzureML": {
          "notebookHasBeenCompleted": true
        }
      }
    },
    "nteract": {
      "version": "nteract-front-end@1.0.0"
    }
  },
  "nbformat": 4,
  "nbformat_minor": 2
}